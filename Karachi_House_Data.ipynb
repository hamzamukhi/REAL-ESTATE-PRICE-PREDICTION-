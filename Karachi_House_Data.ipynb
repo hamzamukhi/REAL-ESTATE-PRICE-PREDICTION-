{
  "nbformat": 4,
  "nbformat_minor": 0,
  "metadata": {
    "colab": {
      "name": "Karachi_House_Data.ipynb",
      "provenance": [],
      "collapsed_sections": [],
      "authorship_tag": "ABX9TyORhS1PH8pmB3VuD8ws32u9",
      "include_colab_link": true
    },
    "kernelspec": {
      "name": "python3",
      "display_name": "Python 3"
    }
  },
  "cells": [
    {
      "cell_type": "markdown",
      "metadata": {
        "id": "view-in-github",
        "colab_type": "text"
      },
      "source": [
        "<a href=\"https://colab.research.google.com/github/hamzamukhi/REAL-ESTATE-PRICE-PREDICTION-/blob/main/Karachi_House_Data.ipynb\" target=\"_parent\"><img src=\"https://colab.research.google.com/assets/colab-badge.svg\" alt=\"Open In Colab\"/></a>"
      ]
    },
    {
      "cell_type": "code",
      "metadata": {
        "colab": {
          "base_uri": "https://localhost:8080/"
        },
        "id": "iTbQE9M-yQE3",
        "outputId": "184a3505-bba0-44c6-f134-8a04910df57b"
      },
      "source": [
        "from google.colab import drive\r\n",
        "drive.mount('/content/gdrive')"
      ],
      "execution_count": null,
      "outputs": [
        {
          "output_type": "stream",
          "text": [
            "Drive already mounted at /content/gdrive; to attempt to forcibly remount, call drive.mount(\"/content/gdrive\", force_remount=True).\n"
          ],
          "name": "stdout"
        }
      ]
    },
    {
      "cell_type": "code",
      "metadata": {
        "id": "1oPv1_IiyT_V"
      },
      "source": [
        "import pandas as pd\r\n",
        "import numpy as np\r\n",
        "from matplotlib import pyplot as plt\r\n",
        "%matplotlib inline\r\n",
        "import matplotlib\r\n",
        "matplotlib.rcParams['figure.figsize'] = (20,10)\r\n",
        "import seaborn as sns"
      ],
      "execution_count": null,
      "outputs": []
    },
    {
      "cell_type": "code",
      "metadata": {
        "colab": {
          "base_uri": "https://localhost:8080/"
        },
        "id": "Pq7ksdKjyfde",
        "outputId": "026365cc-b54c-49cd-8943-128bef7000e1"
      },
      "source": [
        "%cd /content/gdrive/My Drive/AI LAB"
      ],
      "execution_count": null,
      "outputs": [
        {
          "output_type": "stream",
          "text": [
            "/content/gdrive/My Drive/AI LAB\n"
          ],
          "name": "stdout"
        }
      ]
    },
    {
      "cell_type": "code",
      "metadata": {
        "colab": {
          "base_uri": "https://localhost:8080/",
          "height": 206
        },
        "id": "TjHoozYRyhhi",
        "outputId": "ba154421-dabc-4840-8784-78bf5ac42f37"
      },
      "source": [
        "df1 = pd.read_csv('Karachi_House_Data.csv')\r\n",
        "df1.head()"
      ],
      "execution_count": null,
      "outputs": [
        {
          "output_type": "execute_result",
          "data": {
            "text/html": [
              "<div>\n",
              "<style scoped>\n",
              "    .dataframe tbody tr th:only-of-type {\n",
              "        vertical-align: middle;\n",
              "    }\n",
              "\n",
              "    .dataframe tbody tr th {\n",
              "        vertical-align: top;\n",
              "    }\n",
              "\n",
              "    .dataframe thead th {\n",
              "        text-align: right;\n",
              "    }\n",
              "</style>\n",
              "<table border=\"1\" class=\"dataframe\">\n",
              "  <thead>\n",
              "    <tr style=\"text-align: right;\">\n",
              "      <th></th>\n",
              "      <th>area_type</th>\n",
              "      <th>availability</th>\n",
              "      <th>location</th>\n",
              "      <th>size</th>\n",
              "      <th>total_sqft</th>\n",
              "      <th>bath</th>\n",
              "      <th>balcony</th>\n",
              "      <th>price</th>\n",
              "    </tr>\n",
              "  </thead>\n",
              "  <tbody>\n",
              "    <tr>\n",
              "      <th>0</th>\n",
              "      <td>Appartment</td>\n",
              "      <td>19-Dec</td>\n",
              "      <td>DHA Defence</td>\n",
              "      <td>2 BHK</td>\n",
              "      <td>1056</td>\n",
              "      <td>2.0</td>\n",
              "      <td>1.0</td>\n",
              "      <td>39.07</td>\n",
              "    </tr>\n",
              "    <tr>\n",
              "      <th>1</th>\n",
              "      <td>Plot</td>\n",
              "      <td>Ready To Move</td>\n",
              "      <td>North Nazimabad</td>\n",
              "      <td>4 Bedroom</td>\n",
              "      <td>2600</td>\n",
              "      <td>5.0</td>\n",
              "      <td>3.0</td>\n",
              "      <td>120.00</td>\n",
              "    </tr>\n",
              "    <tr>\n",
              "      <th>2</th>\n",
              "      <td>House</td>\n",
              "      <td>Ready To Move</td>\n",
              "      <td>Saddar Town</td>\n",
              "      <td>3 BHK</td>\n",
              "      <td>1440</td>\n",
              "      <td>2.0</td>\n",
              "      <td>3.0</td>\n",
              "      <td>62.00</td>\n",
              "    </tr>\n",
              "    <tr>\n",
              "      <th>3</th>\n",
              "      <td>Appartment</td>\n",
              "      <td>Ready To Move</td>\n",
              "      <td>Gulshan-e-Iqbal Town</td>\n",
              "      <td>3 BHK</td>\n",
              "      <td>1521</td>\n",
              "      <td>3.0</td>\n",
              "      <td>1.0</td>\n",
              "      <td>95.00</td>\n",
              "    </tr>\n",
              "    <tr>\n",
              "      <th>4</th>\n",
              "      <td>Appartment</td>\n",
              "      <td>Ready To Move</td>\n",
              "      <td>Tariq Road</td>\n",
              "      <td>2 BHK</td>\n",
              "      <td>1200</td>\n",
              "      <td>2.0</td>\n",
              "      <td>1.0</td>\n",
              "      <td>51.00</td>\n",
              "    </tr>\n",
              "  </tbody>\n",
              "</table>\n",
              "</div>"
            ],
            "text/plain": [
              "    area_type   availability              location  ... bath balcony   price\n",
              "0  Appartment         19-Dec           DHA Defence  ...  2.0     1.0   39.07\n",
              "1        Plot  Ready To Move       North Nazimabad  ...  5.0     3.0  120.00\n",
              "2       House  Ready To Move           Saddar Town  ...  2.0     3.0   62.00\n",
              "3  Appartment  Ready To Move  Gulshan-e-Iqbal Town  ...  3.0     1.0   95.00\n",
              "4  Appartment  Ready To Move            Tariq Road  ...  2.0     1.0   51.00\n",
              "\n",
              "[5 rows x 8 columns]"
            ]
          },
          "metadata": {
            "tags": []
          },
          "execution_count": 79
        }
      ]
    },
    {
      "cell_type": "code",
      "metadata": {
        "colab": {
          "base_uri": "https://localhost:8080/"
        },
        "id": "tmtmNwbAymq3",
        "outputId": "c6e4c51a-306b-4f38-cb78-8aaf5357ecc6"
      },
      "source": [
        "#no of rows and no of columns\r\n",
        "df1.shape"
      ],
      "execution_count": null,
      "outputs": [
        {
          "output_type": "execute_result",
          "data": {
            "text/plain": [
              "(13320, 8)"
            ]
          },
          "metadata": {
            "tags": []
          },
          "execution_count": 80
        }
      ]
    },
    {
      "cell_type": "code",
      "metadata": {
        "colab": {
          "base_uri": "https://localhost:8080/"
        },
        "id": "si5tSOtnyq-h",
        "outputId": "6817452a-b869-46d6-87dc-3403db4a9787"
      },
      "source": [
        "#area type feature by count of data sample\r\n",
        "df1.groupby('area_type')['area_type'].agg('count')"
      ],
      "execution_count": null,
      "outputs": [
        {
          "output_type": "execute_result",
          "data": {
            "text/plain": [
              "area_type\n",
              "Appartment      8790\n",
              "Carpet  Area      87\n",
              "House           2418\n",
              "Plot            2025\n",
              "Name: area_type, dtype: int64"
            ]
          },
          "metadata": {
            "tags": []
          },
          "execution_count": 165
        }
      ]
    },
    {
      "cell_type": "code",
      "metadata": {
        "colab": {
          "base_uri": "https://localhost:8080/",
          "height": 206
        },
        "id": "l7F1sYCPyteB",
        "outputId": "6d19b069-d21b-4f24-b3d8-070112146e0f"
      },
      "source": [
        "df2 = df1.drop(['area_type','balcony','availability'],axis='columns')\r\n",
        "df2.head()"
      ],
      "execution_count": null,
      "outputs": [
        {
          "output_type": "execute_result",
          "data": {
            "text/html": [
              "<div>\n",
              "<style scoped>\n",
              "    .dataframe tbody tr th:only-of-type {\n",
              "        vertical-align: middle;\n",
              "    }\n",
              "\n",
              "    .dataframe tbody tr th {\n",
              "        vertical-align: top;\n",
              "    }\n",
              "\n",
              "    .dataframe thead th {\n",
              "        text-align: right;\n",
              "    }\n",
              "</style>\n",
              "<table border=\"1\" class=\"dataframe\">\n",
              "  <thead>\n",
              "    <tr style=\"text-align: right;\">\n",
              "      <th></th>\n",
              "      <th>location</th>\n",
              "      <th>size</th>\n",
              "      <th>total_sqft</th>\n",
              "      <th>bath</th>\n",
              "      <th>price</th>\n",
              "    </tr>\n",
              "  </thead>\n",
              "  <tbody>\n",
              "    <tr>\n",
              "      <th>0</th>\n",
              "      <td>DHA Defence</td>\n",
              "      <td>2 BHK</td>\n",
              "      <td>1056</td>\n",
              "      <td>2.0</td>\n",
              "      <td>39.07</td>\n",
              "    </tr>\n",
              "    <tr>\n",
              "      <th>1</th>\n",
              "      <td>North Nazimabad</td>\n",
              "      <td>4 Bedroom</td>\n",
              "      <td>2600</td>\n",
              "      <td>5.0</td>\n",
              "      <td>120.00</td>\n",
              "    </tr>\n",
              "    <tr>\n",
              "      <th>2</th>\n",
              "      <td>Saddar Town</td>\n",
              "      <td>3 BHK</td>\n",
              "      <td>1440</td>\n",
              "      <td>2.0</td>\n",
              "      <td>62.00</td>\n",
              "    </tr>\n",
              "    <tr>\n",
              "      <th>3</th>\n",
              "      <td>Gulshan-e-Iqbal Town</td>\n",
              "      <td>3 BHK</td>\n",
              "      <td>1521</td>\n",
              "      <td>3.0</td>\n",
              "      <td>95.00</td>\n",
              "    </tr>\n",
              "    <tr>\n",
              "      <th>4</th>\n",
              "      <td>Tariq Road</td>\n",
              "      <td>2 BHK</td>\n",
              "      <td>1200</td>\n",
              "      <td>2.0</td>\n",
              "      <td>51.00</td>\n",
              "    </tr>\n",
              "  </tbody>\n",
              "</table>\n",
              "</div>"
            ],
            "text/plain": [
              "               location       size total_sqft  bath   price\n",
              "0           DHA Defence      2 BHK       1056   2.0   39.07\n",
              "1       North Nazimabad  4 Bedroom       2600   5.0  120.00\n",
              "2           Saddar Town      3 BHK       1440   2.0   62.00\n",
              "3  Gulshan-e-Iqbal Town      3 BHK       1521   3.0   95.00\n",
              "4            Tariq Road      2 BHK       1200   2.0   51.00"
            ]
          },
          "metadata": {
            "tags": []
          },
          "execution_count": 82
        }
      ]
    },
    {
      "cell_type": "code",
      "metadata": {
        "colab": {
          "base_uri": "https://localhost:8080/"
        },
        "id": "tnRuhdmDywg8",
        "outputId": "1e59930f-7a61-4c96-db46-e344409d2462"
      },
      "source": [
        "#will tell you no. rows where colums value is null\r\n",
        "df2.isnull().sum()"
      ],
      "execution_count": null,
      "outputs": [
        {
          "output_type": "execute_result",
          "data": {
            "text/plain": [
              "location       0\n",
              "size          16\n",
              "total_sqft     0\n",
              "bath          73\n",
              "price          0\n",
              "dtype: int64"
            ]
          },
          "metadata": {
            "tags": []
          },
          "execution_count": 83
        }
      ]
    },
    {
      "cell_type": "code",
      "metadata": {
        "colab": {
          "base_uri": "https://localhost:8080/"
        },
        "id": "DdI5dDaxyzbe",
        "outputId": "2ad74dd1-af87-45c8-e64e-8d92f456ac73"
      },
      "source": [
        "#find that it doesnt have any NA values\r\n",
        "df3 = df2.dropna()\r\n",
        "df3.isnull().sum()"
      ],
      "execution_count": null,
      "outputs": [
        {
          "output_type": "execute_result",
          "data": {
            "text/plain": [
              "location      0\n",
              "size          0\n",
              "total_sqft    0\n",
              "bath          0\n",
              "price         0\n",
              "dtype: int64"
            ]
          },
          "metadata": {
            "tags": []
          },
          "execution_count": 84
        }
      ]
    },
    {
      "cell_type": "code",
      "metadata": {
        "colab": {
          "base_uri": "https://localhost:8080/"
        },
        "id": "mjt1DC6ry1GA",
        "outputId": "e174ea59-2be7-40f8-ffb4-cdd9e7870900"
      },
      "source": [
        "df3.shape"
      ],
      "execution_count": null,
      "outputs": [
        {
          "output_type": "execute_result",
          "data": {
            "text/plain": [
              "(13247, 5)"
            ]
          },
          "metadata": {
            "tags": []
          },
          "execution_count": 85
        }
      ]
    },
    {
      "cell_type": "code",
      "metadata": {
        "colab": {
          "base_uri": "https://localhost:8080/"
        },
        "id": "e0XPSShNy48d",
        "outputId": "13dff7e9-fc00-45d7-ba5d-3613ba240b36"
      },
      "source": [
        "#pandas series will give you unique values\r\n",
        "df3['size'].unique()"
      ],
      "execution_count": null,
      "outputs": [
        {
          "output_type": "execute_result",
          "data": {
            "text/plain": [
              "array(['2 BHK', '4 Bedroom', '3 BHK', '4 BHK', '6 Bedroom', '3 Bedroom',\n",
              "       '1 BHK', '1 Bedroom', '8 Bedroom', '2 Bedroom', '7 Bedroom',\n",
              "       '5 BHK', '7 BHK', '6 BHK', '5 Bedroom', '11 BHK', '9 BHK',\n",
              "       '9 Bedroom', '27 BHK', '10 Bedroom', '11 Bedroom', '10 BHK',\n",
              "       '19 BHK', '16 BHK', '43 Bedroom', '14 BHK', '8 BHK', '12 Bedroom',\n",
              "       '13 BHK', '18 Bedroom'], dtype=object)"
            ]
          },
          "metadata": {
            "tags": []
          },
          "execution_count": 86
        }
      ]
    },
    {
      "cell_type": "code",
      "metadata": {
        "colab": {
          "base_uri": "https://localhost:8080/"
        },
        "id": "ywnVnQwoy6ns",
        "outputId": "472234be-45cc-4408-ee8a-72b9ed9c5f2e"
      },
      "source": [
        "#creating bhk coumn in this column based on size and apply string function by python lambda funct e.g [x is 2BHK] split string using space\r\n",
        "df3['bhk'] = df3['size'].apply(lambda x: int(x.split(' ')[0]))"
      ],
      "execution_count": null,
      "outputs": [
        {
          "output_type": "stream",
          "text": [
            "/usr/local/lib/python3.6/dist-packages/ipykernel_launcher.py:2: SettingWithCopyWarning: \n",
            "A value is trying to be set on a copy of a slice from a DataFrame.\n",
            "Try using .loc[row_indexer,col_indexer] = value instead\n",
            "\n",
            "See the caveats in the documentation: https://pandas.pydata.org/pandas-docs/stable/user_guide/indexing.html#returning-a-view-versus-a-copy\n",
            "  \n"
          ],
          "name": "stderr"
        }
      ]
    },
    {
      "cell_type": "code",
      "metadata": {
        "colab": {
          "base_uri": "https://localhost:8080/",
          "height": 206
        },
        "id": "LiED2KlGy9Ml",
        "outputId": "0acc745f-c380-40b7-c138-2066ff1370fb"
      },
      "source": [
        "df3.head()"
      ],
      "execution_count": null,
      "outputs": [
        {
          "output_type": "execute_result",
          "data": {
            "text/html": [
              "<div>\n",
              "<style scoped>\n",
              "    .dataframe tbody tr th:only-of-type {\n",
              "        vertical-align: middle;\n",
              "    }\n",
              "\n",
              "    .dataframe tbody tr th {\n",
              "        vertical-align: top;\n",
              "    }\n",
              "\n",
              "    .dataframe thead th {\n",
              "        text-align: right;\n",
              "    }\n",
              "</style>\n",
              "<table border=\"1\" class=\"dataframe\">\n",
              "  <thead>\n",
              "    <tr style=\"text-align: right;\">\n",
              "      <th></th>\n",
              "      <th>location</th>\n",
              "      <th>size</th>\n",
              "      <th>total_sqft</th>\n",
              "      <th>bath</th>\n",
              "      <th>price</th>\n",
              "      <th>bhk</th>\n",
              "    </tr>\n",
              "  </thead>\n",
              "  <tbody>\n",
              "    <tr>\n",
              "      <th>0</th>\n",
              "      <td>DHA Defence</td>\n",
              "      <td>2 BHK</td>\n",
              "      <td>1056</td>\n",
              "      <td>2.0</td>\n",
              "      <td>39.07</td>\n",
              "      <td>2</td>\n",
              "    </tr>\n",
              "    <tr>\n",
              "      <th>1</th>\n",
              "      <td>North Nazimabad</td>\n",
              "      <td>4 Bedroom</td>\n",
              "      <td>2600</td>\n",
              "      <td>5.0</td>\n",
              "      <td>120.00</td>\n",
              "      <td>4</td>\n",
              "    </tr>\n",
              "    <tr>\n",
              "      <th>2</th>\n",
              "      <td>Saddar Town</td>\n",
              "      <td>3 BHK</td>\n",
              "      <td>1440</td>\n",
              "      <td>2.0</td>\n",
              "      <td>62.00</td>\n",
              "      <td>3</td>\n",
              "    </tr>\n",
              "    <tr>\n",
              "      <th>3</th>\n",
              "      <td>Gulshan-e-Iqbal Town</td>\n",
              "      <td>3 BHK</td>\n",
              "      <td>1521</td>\n",
              "      <td>3.0</td>\n",
              "      <td>95.00</td>\n",
              "      <td>3</td>\n",
              "    </tr>\n",
              "    <tr>\n",
              "      <th>4</th>\n",
              "      <td>Tariq Road</td>\n",
              "      <td>2 BHK</td>\n",
              "      <td>1200</td>\n",
              "      <td>2.0</td>\n",
              "      <td>51.00</td>\n",
              "      <td>2</td>\n",
              "    </tr>\n",
              "  </tbody>\n",
              "</table>\n",
              "</div>"
            ],
            "text/plain": [
              "               location       size total_sqft  bath   price  bhk\n",
              "0           DHA Defence      2 BHK       1056   2.0   39.07    2\n",
              "1       North Nazimabad  4 Bedroom       2600   5.0  120.00    4\n",
              "2           Saddar Town      3 BHK       1440   2.0   62.00    3\n",
              "3  Gulshan-e-Iqbal Town      3 BHK       1521   3.0   95.00    3\n",
              "4            Tariq Road      2 BHK       1200   2.0   51.00    2"
            ]
          },
          "metadata": {
            "tags": []
          },
          "execution_count": 88
        }
      ]
    },
    {
      "cell_type": "code",
      "metadata": {
        "colab": {
          "base_uri": "https://localhost:8080/"
        },
        "id": "xEqvDSJ9zCkF",
        "outputId": "a2e05ffb-4f1d-420b-c359-d72f0c7e3c9d"
      },
      "source": [
        "df3['bhk'].unique()"
      ],
      "execution_count": null,
      "outputs": [
        {
          "output_type": "execute_result",
          "data": {
            "text/plain": [
              "array([ 2,  4,  3,  6,  1,  8,  7,  5, 11,  9, 27, 10, 19, 16, 43, 14, 12,\n",
              "       13, 18])"
            ]
          },
          "metadata": {
            "tags": []
          },
          "execution_count": 89
        }
      ]
    },
    {
      "cell_type": "code",
      "metadata": {
        "colab": {
          "base_uri": "https://localhost:8080/",
          "height": 112
        },
        "id": "d9lZuEbgzEM0",
        "outputId": "88200cbd-681c-45d6-a2be-d03b17c2a14e"
      },
      "source": [
        "df3[(df3.bhk>20)]"
      ],
      "execution_count": null,
      "outputs": [
        {
          "output_type": "execute_result",
          "data": {
            "text/html": [
              "<div>\n",
              "<style scoped>\n",
              "    .dataframe tbody tr th:only-of-type {\n",
              "        vertical-align: middle;\n",
              "    }\n",
              "\n",
              "    .dataframe tbody tr th {\n",
              "        vertical-align: top;\n",
              "    }\n",
              "\n",
              "    .dataframe thead th {\n",
              "        text-align: right;\n",
              "    }\n",
              "</style>\n",
              "<table border=\"1\" class=\"dataframe\">\n",
              "  <thead>\n",
              "    <tr style=\"text-align: right;\">\n",
              "      <th></th>\n",
              "      <th>location</th>\n",
              "      <th>size</th>\n",
              "      <th>total_sqft</th>\n",
              "      <th>bath</th>\n",
              "      <th>price</th>\n",
              "      <th>bhk</th>\n",
              "    </tr>\n",
              "  </thead>\n",
              "  <tbody>\n",
              "    <tr>\n",
              "      <th>1718</th>\n",
              "      <td>Khayaban-e-Sehar</td>\n",
              "      <td>27 BHK</td>\n",
              "      <td>8000</td>\n",
              "      <td>27.0</td>\n",
              "      <td>230.0</td>\n",
              "      <td>27</td>\n",
              "    </tr>\n",
              "    <tr>\n",
              "      <th>4684</th>\n",
              "      <td>Gulshan-E-Iqbal one</td>\n",
              "      <td>43 Bedroom</td>\n",
              "      <td>2400</td>\n",
              "      <td>40.0</td>\n",
              "      <td>660.0</td>\n",
              "      <td>43</td>\n",
              "    </tr>\n",
              "  </tbody>\n",
              "</table>\n",
              "</div>"
            ],
            "text/plain": [
              "                 location        size total_sqft  bath  price  bhk\n",
              "1718     Khayaban-e-Sehar      27 BHK       8000  27.0  230.0   27\n",
              "4684  Gulshan-E-Iqbal one  43 Bedroom       2400  40.0  660.0   43"
            ]
          },
          "metadata": {
            "tags": []
          },
          "execution_count": 90
        }
      ]
    },
    {
      "cell_type": "markdown",
      "metadata": {
        "id": "v_h-S7jYzKvs"
      },
      "source": [
        "2400 is  an error you cannot have this with 43 bedrooms so we will clean up this errors"
      ]
    },
    {
      "cell_type": "code",
      "metadata": {
        "colab": {
          "base_uri": "https://localhost:8080/"
        },
        "id": "4JkoEaWuzHhr",
        "outputId": "9beca578-c336-4503-f1e2-8e1f351aa5bd"
      },
      "source": [
        "df3.total_sqft.unique()"
      ],
      "execution_count": null,
      "outputs": [
        {
          "output_type": "execute_result",
          "data": {
            "text/plain": [
              "array(['1056', '2600', '1440', ..., '1133 - 1384', '774', '4689'],\n",
              "      dtype=object)"
            ]
          },
          "metadata": {
            "tags": []
          },
          "execution_count": 91
        }
      ]
    },
    {
      "cell_type": "code",
      "metadata": {
        "id": "W-aLvgjPzNna"
      },
      "source": [
        "#it will convert range into single number by avg and by funt it wil detect the value in total_sqft the value is float or not\r\n",
        "def is_float(x):\r\n",
        "    try:\r\n",
        "        float(x)\r\n",
        "    except:\r\n",
        "      return False\r\n",
        "    return True"
      ],
      "execution_count": null,
      "outputs": []
    },
    {
      "cell_type": "code",
      "metadata": {
        "colab": {
          "base_uri": "https://localhost:8080/",
          "height": 206
        },
        "id": "LgdO7nejzSqM",
        "outputId": "0417aadd-2f10-44c7-887f-cf4e161a20c6"
      },
      "source": [
        "df3[~df3['total_sqft'].apply(is_float)].head()"
      ],
      "execution_count": null,
      "outputs": [
        {
          "output_type": "execute_result",
          "data": {
            "text/html": [
              "<div>\n",
              "<style scoped>\n",
              "    .dataframe tbody tr th:only-of-type {\n",
              "        vertical-align: middle;\n",
              "    }\n",
              "\n",
              "    .dataframe tbody tr th {\n",
              "        vertical-align: top;\n",
              "    }\n",
              "\n",
              "    .dataframe thead th {\n",
              "        text-align: right;\n",
              "    }\n",
              "</style>\n",
              "<table border=\"1\" class=\"dataframe\">\n",
              "  <thead>\n",
              "    <tr style=\"text-align: right;\">\n",
              "      <th></th>\n",
              "      <th>location</th>\n",
              "      <th>size</th>\n",
              "      <th>total_sqft</th>\n",
              "      <th>bath</th>\n",
              "      <th>price</th>\n",
              "      <th>bhk</th>\n",
              "    </tr>\n",
              "  </thead>\n",
              "  <tbody>\n",
              "    <tr>\n",
              "      <th>30</th>\n",
              "      <td>Navy Housing Scheme Karsaz</td>\n",
              "      <td>4 BHK</td>\n",
              "      <td>2100 - 2850</td>\n",
              "      <td>4.0</td>\n",
              "      <td>186.000</td>\n",
              "      <td>4</td>\n",
              "    </tr>\n",
              "    <tr>\n",
              "      <th>122</th>\n",
              "      <td>Malir</td>\n",
              "      <td>4 BHK</td>\n",
              "      <td>3067 - 8156</td>\n",
              "      <td>4.0</td>\n",
              "      <td>477.000</td>\n",
              "      <td>4</td>\n",
              "    </tr>\n",
              "    <tr>\n",
              "      <th>137</th>\n",
              "      <td>Defence Garden</td>\n",
              "      <td>2 BHK</td>\n",
              "      <td>1042 - 1105</td>\n",
              "      <td>2.0</td>\n",
              "      <td>54.005</td>\n",
              "      <td>2</td>\n",
              "    </tr>\n",
              "    <tr>\n",
              "      <th>165</th>\n",
              "      <td>North Karachi</td>\n",
              "      <td>2 BHK</td>\n",
              "      <td>1145 - 1340</td>\n",
              "      <td>2.0</td>\n",
              "      <td>43.490</td>\n",
              "      <td>2</td>\n",
              "    </tr>\n",
              "    <tr>\n",
              "      <th>188</th>\n",
              "      <td>Khayaban-e-Bahria</td>\n",
              "      <td>2 BHK</td>\n",
              "      <td>1015 - 1540</td>\n",
              "      <td>2.0</td>\n",
              "      <td>56.800</td>\n",
              "      <td>2</td>\n",
              "    </tr>\n",
              "  </tbody>\n",
              "</table>\n",
              "</div>"
            ],
            "text/plain": [
              "                       location   size   total_sqft  bath    price  bhk\n",
              "30   Navy Housing Scheme Karsaz  4 BHK  2100 - 2850   4.0  186.000    4\n",
              "122                       Malir  4 BHK  3067 - 8156   4.0  477.000    4\n",
              "137              Defence Garden  2 BHK  1042 - 1105   2.0   54.005    2\n",
              "165               North Karachi  2 BHK  1145 - 1340   2.0   43.490    2\n",
              "188           Khayaban-e-Bahria  2 BHK  1015 - 1540   2.0   56.800    2"
            ]
          },
          "metadata": {
            "tags": []
          },
          "execution_count": 93
        }
      ]
    },
    {
      "cell_type": "code",
      "metadata": {
        "colab": {
          "base_uri": "https://localhost:8080/",
          "height": 424
        },
        "id": "HSO-PZeCzVXr",
        "outputId": "b9f66876-09ab-457d-d8fe-880cf38e3b38"
      },
      "source": [
        "#apply is_float function it will return true,its a negate operation will return dataset back\r\n",
        "df3[~df3['total_sqft'].apply(is_float)]"
      ],
      "execution_count": null,
      "outputs": [
        {
          "output_type": "execute_result",
          "data": {
            "text/html": [
              "<div>\n",
              "<style scoped>\n",
              "    .dataframe tbody tr th:only-of-type {\n",
              "        vertical-align: middle;\n",
              "    }\n",
              "\n",
              "    .dataframe tbody tr th {\n",
              "        vertical-align: top;\n",
              "    }\n",
              "\n",
              "    .dataframe thead th {\n",
              "        text-align: right;\n",
              "    }\n",
              "</style>\n",
              "<table border=\"1\" class=\"dataframe\">\n",
              "  <thead>\n",
              "    <tr style=\"text-align: right;\">\n",
              "      <th></th>\n",
              "      <th>location</th>\n",
              "      <th>size</th>\n",
              "      <th>total_sqft</th>\n",
              "      <th>bath</th>\n",
              "      <th>price</th>\n",
              "      <th>bhk</th>\n",
              "    </tr>\n",
              "  </thead>\n",
              "  <tbody>\n",
              "    <tr>\n",
              "      <th>30</th>\n",
              "      <td>Navy Housing Scheme Karsaz</td>\n",
              "      <td>4 BHK</td>\n",
              "      <td>2100 - 2850</td>\n",
              "      <td>4.0</td>\n",
              "      <td>186.000</td>\n",
              "      <td>4</td>\n",
              "    </tr>\n",
              "    <tr>\n",
              "      <th>122</th>\n",
              "      <td>Malir</td>\n",
              "      <td>4 BHK</td>\n",
              "      <td>3067 - 8156</td>\n",
              "      <td>4.0</td>\n",
              "      <td>477.000</td>\n",
              "      <td>4</td>\n",
              "    </tr>\n",
              "    <tr>\n",
              "      <th>137</th>\n",
              "      <td>Defence Garden</td>\n",
              "      <td>2 BHK</td>\n",
              "      <td>1042 - 1105</td>\n",
              "      <td>2.0</td>\n",
              "      <td>54.005</td>\n",
              "      <td>2</td>\n",
              "    </tr>\n",
              "    <tr>\n",
              "      <th>165</th>\n",
              "      <td>North Karachi</td>\n",
              "      <td>2 BHK</td>\n",
              "      <td>1145 - 1340</td>\n",
              "      <td>2.0</td>\n",
              "      <td>43.490</td>\n",
              "      <td>2</td>\n",
              "    </tr>\n",
              "    <tr>\n",
              "      <th>188</th>\n",
              "      <td>Khayaban-e-Bahria</td>\n",
              "      <td>2 BHK</td>\n",
              "      <td>1015 - 1540</td>\n",
              "      <td>2.0</td>\n",
              "      <td>56.800</td>\n",
              "      <td>2</td>\n",
              "    </tr>\n",
              "    <tr>\n",
              "      <th>...</th>\n",
              "      <td>...</td>\n",
              "      <td>...</td>\n",
              "      <td>...</td>\n",
              "      <td>...</td>\n",
              "      <td>...</td>\n",
              "      <td>...</td>\n",
              "    </tr>\n",
              "    <tr>\n",
              "      <th>12975</th>\n",
              "      <td>PECHS</td>\n",
              "      <td>2 BHK</td>\n",
              "      <td>850 - 1060</td>\n",
              "      <td>2.0</td>\n",
              "      <td>38.190</td>\n",
              "      <td>2</td>\n",
              "    </tr>\n",
              "    <tr>\n",
              "      <th>12990</th>\n",
              "      <td>Khayaban-e-Rahat</td>\n",
              "      <td>3 BHK</td>\n",
              "      <td>1804 - 2273</td>\n",
              "      <td>3.0</td>\n",
              "      <td>122.000</td>\n",
              "      <td>3</td>\n",
              "    </tr>\n",
              "    <tr>\n",
              "      <th>13059</th>\n",
              "      <td>Gulistan-e-Jauhar</td>\n",
              "      <td>2 BHK</td>\n",
              "      <td>1200 - 1470</td>\n",
              "      <td>2.0</td>\n",
              "      <td>72.760</td>\n",
              "      <td>2</td>\n",
              "    </tr>\n",
              "    <tr>\n",
              "      <th>13265</th>\n",
              "      <td>DHA Defence</td>\n",
              "      <td>2 BHK</td>\n",
              "      <td>1133 - 1384</td>\n",
              "      <td>2.0</td>\n",
              "      <td>59.135</td>\n",
              "      <td>2</td>\n",
              "    </tr>\n",
              "    <tr>\n",
              "      <th>13299</th>\n",
              "      <td>Hill Park</td>\n",
              "      <td>4 BHK</td>\n",
              "      <td>2830 - 2882</td>\n",
              "      <td>5.0</td>\n",
              "      <td>154.500</td>\n",
              "      <td>4</td>\n",
              "    </tr>\n",
              "  </tbody>\n",
              "</table>\n",
              "<p>190 rows × 6 columns</p>\n",
              "</div>"
            ],
            "text/plain": [
              "                         location   size   total_sqft  bath    price  bhk\n",
              "30     Navy Housing Scheme Karsaz  4 BHK  2100 - 2850   4.0  186.000    4\n",
              "122                         Malir  4 BHK  3067 - 8156   4.0  477.000    4\n",
              "137                Defence Garden  2 BHK  1042 - 1105   2.0   54.005    2\n",
              "165                 North Karachi  2 BHK  1145 - 1340   2.0   43.490    2\n",
              "188             Khayaban-e-Bahria  2 BHK  1015 - 1540   2.0   56.800    2\n",
              "...                           ...    ...          ...   ...      ...  ...\n",
              "12975                       PECHS  2 BHK   850 - 1060   2.0   38.190    2\n",
              "12990            Khayaban-e-Rahat  3 BHK  1804 - 2273   3.0  122.000    3\n",
              "13059          Gulistan-e-Jauhar   2 BHK  1200 - 1470   2.0   72.760    2\n",
              "13265                 DHA Defence  2 BHK  1133 - 1384   2.0   59.135    2\n",
              "13299                   Hill Park  4 BHK  2830 - 2882   5.0  154.500    4\n",
              "\n",
              "[190 rows x 6 columns]"
            ]
          },
          "metadata": {
            "tags": []
          },
          "execution_count": 94
        }
      ]
    },
    {
      "cell_type": "code",
      "metadata": {
        "colab": {
          "base_uri": "https://localhost:8080/",
          "height": 206
        },
        "id": "6eFL4IRozXSl",
        "outputId": "8d609b54-a4f0-4aa7-e370-c18e05cf874c"
      },
      "source": [
        "df3[~df3['total_sqft'].apply(is_float)].head()  #for few values"
      ],
      "execution_count": null,
      "outputs": [
        {
          "output_type": "execute_result",
          "data": {
            "text/html": [
              "<div>\n",
              "<style scoped>\n",
              "    .dataframe tbody tr th:only-of-type {\n",
              "        vertical-align: middle;\n",
              "    }\n",
              "\n",
              "    .dataframe tbody tr th {\n",
              "        vertical-align: top;\n",
              "    }\n",
              "\n",
              "    .dataframe thead th {\n",
              "        text-align: right;\n",
              "    }\n",
              "</style>\n",
              "<table border=\"1\" class=\"dataframe\">\n",
              "  <thead>\n",
              "    <tr style=\"text-align: right;\">\n",
              "      <th></th>\n",
              "      <th>location</th>\n",
              "      <th>size</th>\n",
              "      <th>total_sqft</th>\n",
              "      <th>bath</th>\n",
              "      <th>price</th>\n",
              "      <th>bhk</th>\n",
              "    </tr>\n",
              "  </thead>\n",
              "  <tbody>\n",
              "    <tr>\n",
              "      <th>30</th>\n",
              "      <td>Navy Housing Scheme Karsaz</td>\n",
              "      <td>4 BHK</td>\n",
              "      <td>2100 - 2850</td>\n",
              "      <td>4.0</td>\n",
              "      <td>186.000</td>\n",
              "      <td>4</td>\n",
              "    </tr>\n",
              "    <tr>\n",
              "      <th>122</th>\n",
              "      <td>Malir</td>\n",
              "      <td>4 BHK</td>\n",
              "      <td>3067 - 8156</td>\n",
              "      <td>4.0</td>\n",
              "      <td>477.000</td>\n",
              "      <td>4</td>\n",
              "    </tr>\n",
              "    <tr>\n",
              "      <th>137</th>\n",
              "      <td>Defence Garden</td>\n",
              "      <td>2 BHK</td>\n",
              "      <td>1042 - 1105</td>\n",
              "      <td>2.0</td>\n",
              "      <td>54.005</td>\n",
              "      <td>2</td>\n",
              "    </tr>\n",
              "    <tr>\n",
              "      <th>165</th>\n",
              "      <td>North Karachi</td>\n",
              "      <td>2 BHK</td>\n",
              "      <td>1145 - 1340</td>\n",
              "      <td>2.0</td>\n",
              "      <td>43.490</td>\n",
              "      <td>2</td>\n",
              "    </tr>\n",
              "    <tr>\n",
              "      <th>188</th>\n",
              "      <td>Khayaban-e-Bahria</td>\n",
              "      <td>2 BHK</td>\n",
              "      <td>1015 - 1540</td>\n",
              "      <td>2.0</td>\n",
              "      <td>56.800</td>\n",
              "      <td>2</td>\n",
              "    </tr>\n",
              "  </tbody>\n",
              "</table>\n",
              "</div>"
            ],
            "text/plain": [
              "                       location   size   total_sqft  bath    price  bhk\n",
              "30   Navy Housing Scheme Karsaz  4 BHK  2100 - 2850   4.0  186.000    4\n",
              "122                       Malir  4 BHK  3067 - 8156   4.0  477.000    4\n",
              "137              Defence Garden  2 BHK  1042 - 1105   2.0   54.005    2\n",
              "165               North Karachi  2 BHK  1145 - 1340   2.0   43.490    2\n",
              "188           Khayaban-e-Bahria  2 BHK  1015 - 1540   2.0   56.800    2"
            ]
          },
          "metadata": {
            "tags": []
          },
          "execution_count": 95
        }
      ]
    },
    {
      "cell_type": "code",
      "metadata": {
        "colab": {
          "base_uri": "https://localhost:8080/",
          "height": 363
        },
        "id": "C6_Ta7rwzac5",
        "outputId": "9d809859-21be-42a8-ae7b-7777a83bcd10"
      },
      "source": [
        "df3[~df3['total_sqft'].apply(is_float)].head(10)    #here incoming dataset is not proper uniform"
      ],
      "execution_count": null,
      "outputs": [
        {
          "output_type": "execute_result",
          "data": {
            "text/html": [
              "<div>\n",
              "<style scoped>\n",
              "    .dataframe tbody tr th:only-of-type {\n",
              "        vertical-align: middle;\n",
              "    }\n",
              "\n",
              "    .dataframe tbody tr th {\n",
              "        vertical-align: top;\n",
              "    }\n",
              "\n",
              "    .dataframe thead th {\n",
              "        text-align: right;\n",
              "    }\n",
              "</style>\n",
              "<table border=\"1\" class=\"dataframe\">\n",
              "  <thead>\n",
              "    <tr style=\"text-align: right;\">\n",
              "      <th></th>\n",
              "      <th>location</th>\n",
              "      <th>size</th>\n",
              "      <th>total_sqft</th>\n",
              "      <th>bath</th>\n",
              "      <th>price</th>\n",
              "      <th>bhk</th>\n",
              "    </tr>\n",
              "  </thead>\n",
              "  <tbody>\n",
              "    <tr>\n",
              "      <th>30</th>\n",
              "      <td>Navy Housing Scheme Karsaz</td>\n",
              "      <td>4 BHK</td>\n",
              "      <td>2100 - 2850</td>\n",
              "      <td>4.0</td>\n",
              "      <td>186.000</td>\n",
              "      <td>4</td>\n",
              "    </tr>\n",
              "    <tr>\n",
              "      <th>122</th>\n",
              "      <td>Malir</td>\n",
              "      <td>4 BHK</td>\n",
              "      <td>3067 - 8156</td>\n",
              "      <td>4.0</td>\n",
              "      <td>477.000</td>\n",
              "      <td>4</td>\n",
              "    </tr>\n",
              "    <tr>\n",
              "      <th>137</th>\n",
              "      <td>Defence Garden</td>\n",
              "      <td>2 BHK</td>\n",
              "      <td>1042 - 1105</td>\n",
              "      <td>2.0</td>\n",
              "      <td>54.005</td>\n",
              "      <td>2</td>\n",
              "    </tr>\n",
              "    <tr>\n",
              "      <th>165</th>\n",
              "      <td>North Karachi</td>\n",
              "      <td>2 BHK</td>\n",
              "      <td>1145 - 1340</td>\n",
              "      <td>2.0</td>\n",
              "      <td>43.490</td>\n",
              "      <td>2</td>\n",
              "    </tr>\n",
              "    <tr>\n",
              "      <th>188</th>\n",
              "      <td>Khayaban-e-Bahria</td>\n",
              "      <td>2 BHK</td>\n",
              "      <td>1015 - 1540</td>\n",
              "      <td>2.0</td>\n",
              "      <td>56.800</td>\n",
              "      <td>2</td>\n",
              "    </tr>\n",
              "    <tr>\n",
              "      <th>410</th>\n",
              "      <td>Khayaban-e-Sehar</td>\n",
              "      <td>1 BHK</td>\n",
              "      <td>34.46Sq. Meter</td>\n",
              "      <td>1.0</td>\n",
              "      <td>18.500</td>\n",
              "      <td>1</td>\n",
              "    </tr>\n",
              "    <tr>\n",
              "      <th>549</th>\n",
              "      <td>Tariq Road</td>\n",
              "      <td>2 BHK</td>\n",
              "      <td>1195 - 1440</td>\n",
              "      <td>2.0</td>\n",
              "      <td>63.770</td>\n",
              "      <td>2</td>\n",
              "    </tr>\n",
              "    <tr>\n",
              "      <th>648</th>\n",
              "      <td>Khaliq-uz-Zaman</td>\n",
              "      <td>9 Bedroom</td>\n",
              "      <td>4125Perch</td>\n",
              "      <td>9.0</td>\n",
              "      <td>265.000</td>\n",
              "      <td>9</td>\n",
              "    </tr>\n",
              "    <tr>\n",
              "      <th>661</th>\n",
              "      <td>Nazimabad</td>\n",
              "      <td>2 BHK</td>\n",
              "      <td>1120 - 1145</td>\n",
              "      <td>2.0</td>\n",
              "      <td>48.130</td>\n",
              "      <td>2</td>\n",
              "    </tr>\n",
              "    <tr>\n",
              "      <th>672</th>\n",
              "      <td>DHA Phase six</td>\n",
              "      <td>4 Bedroom</td>\n",
              "      <td>3090 - 5002</td>\n",
              "      <td>4.0</td>\n",
              "      <td>445.000</td>\n",
              "      <td>4</td>\n",
              "    </tr>\n",
              "  </tbody>\n",
              "</table>\n",
              "</div>"
            ],
            "text/plain": [
              "                       location       size      total_sqft  bath    price  bhk\n",
              "30   Navy Housing Scheme Karsaz      4 BHK     2100 - 2850   4.0  186.000    4\n",
              "122                       Malir      4 BHK     3067 - 8156   4.0  477.000    4\n",
              "137              Defence Garden      2 BHK     1042 - 1105   2.0   54.005    2\n",
              "165               North Karachi      2 BHK     1145 - 1340   2.0   43.490    2\n",
              "188           Khayaban-e-Bahria      2 BHK     1015 - 1540   2.0   56.800    2\n",
              "410            Khayaban-e-Sehar      1 BHK  34.46Sq. Meter   1.0   18.500    1\n",
              "549                  Tariq Road      2 BHK     1195 - 1440   2.0   63.770    2\n",
              "648             Khaliq-uz-Zaman  9 Bedroom       4125Perch   9.0  265.000    9\n",
              "661                   Nazimabad      2 BHK     1120 - 1145   2.0   48.130    2\n",
              "672               DHA Phase six  4 Bedroom     3090 - 5002   4.0  445.000    4"
            ]
          },
          "metadata": {
            "tags": []
          },
          "execution_count": 96
        }
      ]
    },
    {
      "cell_type": "code",
      "metadata": {
        "id": "RJ07g49gzcTa"
      },
      "source": [
        "def convert_sqft_to_num(x):\r\n",
        "    tokens = x.split('-')\r\n",
        "    if len(tokens) == 2:\r\n",
        "        return (float(tokens[0])+float(tokens[1]))/2\r\n",
        "    try:\r\n",
        "        return float(x)\r\n",
        "    except:\r\n",
        "        return None"
      ],
      "execution_count": null,
      "outputs": []
    },
    {
      "cell_type": "code",
      "metadata": {
        "colab": {
          "base_uri": "https://localhost:8080/"
        },
        "id": "i3QgAHYlzgSv",
        "outputId": "2db2c42d-cfb9-493a-ac39-a78c2533c8a7"
      },
      "source": [
        "convert_sqft_to_num('2166')"
      ],
      "execution_count": null,
      "outputs": [
        {
          "output_type": "execute_result",
          "data": {
            "text/plain": [
              "2166.0"
            ]
          },
          "metadata": {
            "tags": []
          },
          "execution_count": 98
        }
      ]
    },
    {
      "cell_type": "code",
      "metadata": {
        "colab": {
          "base_uri": "https://localhost:8080/"
        },
        "id": "s_uZIS8Xzh2T",
        "outputId": "f100417e-dea2-436a-f309-66bb4793afa9"
      },
      "source": [
        "#avg of ('2100 - 2850')\r\n",
        "convert_sqft_to_num('2100 - 2850')  "
      ],
      "execution_count": null,
      "outputs": [
        {
          "output_type": "execute_result",
          "data": {
            "text/plain": [
              "2475.0"
            ]
          },
          "metadata": {
            "tags": []
          },
          "execution_count": 99
        }
      ]
    },
    {
      "cell_type": "code",
      "metadata": {
        "colab": {
          "base_uri": "https://localhost:8080/",
          "height": 143
        },
        "id": "FpLeNIEWzknv",
        "outputId": "00526323-c2c6-47dd-9b74-e6122bb29df8"
      },
      "source": [
        "#native python func on df4['total_sqft']\r\n",
        "df4 = df3.copy()\r\n",
        "df4['total_sqft'] = df4['total_sqft'].apply(convert_sqft_to_num)\r\n",
        "df4.head(3)"
      ],
      "execution_count": null,
      "outputs": [
        {
          "output_type": "execute_result",
          "data": {
            "text/html": [
              "<div>\n",
              "<style scoped>\n",
              "    .dataframe tbody tr th:only-of-type {\n",
              "        vertical-align: middle;\n",
              "    }\n",
              "\n",
              "    .dataframe tbody tr th {\n",
              "        vertical-align: top;\n",
              "    }\n",
              "\n",
              "    .dataframe thead th {\n",
              "        text-align: right;\n",
              "    }\n",
              "</style>\n",
              "<table border=\"1\" class=\"dataframe\">\n",
              "  <thead>\n",
              "    <tr style=\"text-align: right;\">\n",
              "      <th></th>\n",
              "      <th>location</th>\n",
              "      <th>size</th>\n",
              "      <th>total_sqft</th>\n",
              "      <th>bath</th>\n",
              "      <th>price</th>\n",
              "      <th>bhk</th>\n",
              "    </tr>\n",
              "  </thead>\n",
              "  <tbody>\n",
              "    <tr>\n",
              "      <th>0</th>\n",
              "      <td>DHA Defence</td>\n",
              "      <td>2 BHK</td>\n",
              "      <td>1056.0</td>\n",
              "      <td>2.0</td>\n",
              "      <td>39.07</td>\n",
              "      <td>2</td>\n",
              "    </tr>\n",
              "    <tr>\n",
              "      <th>1</th>\n",
              "      <td>North Nazimabad</td>\n",
              "      <td>4 Bedroom</td>\n",
              "      <td>2600.0</td>\n",
              "      <td>5.0</td>\n",
              "      <td>120.00</td>\n",
              "      <td>4</td>\n",
              "    </tr>\n",
              "    <tr>\n",
              "      <th>2</th>\n",
              "      <td>Saddar Town</td>\n",
              "      <td>3 BHK</td>\n",
              "      <td>1440.0</td>\n",
              "      <td>2.0</td>\n",
              "      <td>62.00</td>\n",
              "      <td>3</td>\n",
              "    </tr>\n",
              "  </tbody>\n",
              "</table>\n",
              "</div>"
            ],
            "text/plain": [
              "          location       size  total_sqft  bath   price  bhk\n",
              "0      DHA Defence      2 BHK      1056.0   2.0   39.07    2\n",
              "1  North Nazimabad  4 Bedroom      2600.0   5.0  120.00    4\n",
              "2      Saddar Town      3 BHK      1440.0   2.0   62.00    3"
            ]
          },
          "metadata": {
            "tags": []
          },
          "execution_count": 100
        }
      ]
    },
    {
      "cell_type": "code",
      "metadata": {
        "colab": {
          "base_uri": "https://localhost:8080/"
        },
        "id": "DvHLqZenzmqC",
        "outputId": "9f12d629-e7dd-45b3-b213-262efd3bc0dd"
      },
      "source": [
        "# at index 30 \r\n",
        "df4.loc[30]"
      ],
      "execution_count": null,
      "outputs": [
        {
          "output_type": "execute_result",
          "data": {
            "text/plain": [
              "location      Navy Housing Scheme Karsaz\n",
              "size                               4 BHK\n",
              "total_sqft                          2475\n",
              "bath                                   4\n",
              "price                                186\n",
              "bhk                                    4\n",
              "Name: 30, dtype: object"
            ]
          },
          "metadata": {
            "tags": []
          },
          "execution_count": 101
        }
      ]
    },
    {
      "cell_type": "code",
      "metadata": {
        "colab": {
          "base_uri": "https://localhost:8080/"
        },
        "id": "FoZ_FAhrzpFC",
        "outputId": "166ef6ae-2fb4-44e5-882a-a1475e43e747"
      },
      "source": [
        "(2100+2850)/2"
      ],
      "execution_count": null,
      "outputs": [
        {
          "output_type": "execute_result",
          "data": {
            "text/plain": [
              "2475.0"
            ]
          },
          "metadata": {
            "tags": []
          },
          "execution_count": 102
        }
      ]
    },
    {
      "cell_type": "markdown",
      "metadata": {
        "id": "ZjzbsIF2zvC3"
      },
      "source": [
        "1.cleaned up total_sqft column 2.handle my NA values 3.remove uncessary features"
      ]
    },
    {
      "cell_type": "code",
      "metadata": {
        "colab": {
          "base_uri": "https://localhost:8080/",
          "height": 143
        },
        "id": "KzeBWwcFzrn7",
        "outputId": "929cf620-fb6e-4735-876b-6b9620af1c72"
      },
      "source": [
        "df4.head(3)"
      ],
      "execution_count": null,
      "outputs": [
        {
          "output_type": "execute_result",
          "data": {
            "text/html": [
              "<div>\n",
              "<style scoped>\n",
              "    .dataframe tbody tr th:only-of-type {\n",
              "        vertical-align: middle;\n",
              "    }\n",
              "\n",
              "    .dataframe tbody tr th {\n",
              "        vertical-align: top;\n",
              "    }\n",
              "\n",
              "    .dataframe thead th {\n",
              "        text-align: right;\n",
              "    }\n",
              "</style>\n",
              "<table border=\"1\" class=\"dataframe\">\n",
              "  <thead>\n",
              "    <tr style=\"text-align: right;\">\n",
              "      <th></th>\n",
              "      <th>location</th>\n",
              "      <th>size</th>\n",
              "      <th>total_sqft</th>\n",
              "      <th>bath</th>\n",
              "      <th>price</th>\n",
              "      <th>bhk</th>\n",
              "    </tr>\n",
              "  </thead>\n",
              "  <tbody>\n",
              "    <tr>\n",
              "      <th>0</th>\n",
              "      <td>DHA Defence</td>\n",
              "      <td>2 BHK</td>\n",
              "      <td>1056.0</td>\n",
              "      <td>2.0</td>\n",
              "      <td>39.07</td>\n",
              "      <td>2</td>\n",
              "    </tr>\n",
              "    <tr>\n",
              "      <th>1</th>\n",
              "      <td>North Nazimabad</td>\n",
              "      <td>4 Bedroom</td>\n",
              "      <td>2600.0</td>\n",
              "      <td>5.0</td>\n",
              "      <td>120.00</td>\n",
              "      <td>4</td>\n",
              "    </tr>\n",
              "    <tr>\n",
              "      <th>2</th>\n",
              "      <td>Saddar Town</td>\n",
              "      <td>3 BHK</td>\n",
              "      <td>1440.0</td>\n",
              "      <td>2.0</td>\n",
              "      <td>62.00</td>\n",
              "      <td>3</td>\n",
              "    </tr>\n",
              "  </tbody>\n",
              "</table>\n",
              "</div>"
            ],
            "text/plain": [
              "          location       size  total_sqft  bath   price  bhk\n",
              "0      DHA Defence      2 BHK      1056.0   2.0   39.07    2\n",
              "1  North Nazimabad  4 Bedroom      2600.0   5.0  120.00    4\n",
              "2      Saddar Town      3 BHK      1440.0   2.0   62.00    3"
            ]
          },
          "metadata": {
            "tags": []
          },
          "execution_count": 103
        }
      ]
    },
    {
      "cell_type": "code",
      "metadata": {
        "colab": {
          "base_uri": "https://localhost:8080/",
          "height": 206
        },
        "id": "LPG-giDRzxiu",
        "outputId": "eff95ec7-96e7-4ef8-bf4e-443fcf2ef6ca"
      },
      "source": [
        "#here dividing price with sqft area price is in 1lac\r\n",
        "df5 = df4.copy()\r\n",
        "df5['price_per_sqft'] = df5['price']*100000/df5['total_sqft']\r\n",
        "df5.head()"
      ],
      "execution_count": null,
      "outputs": [
        {
          "output_type": "execute_result",
          "data": {
            "text/html": [
              "<div>\n",
              "<style scoped>\n",
              "    .dataframe tbody tr th:only-of-type {\n",
              "        vertical-align: middle;\n",
              "    }\n",
              "\n",
              "    .dataframe tbody tr th {\n",
              "        vertical-align: top;\n",
              "    }\n",
              "\n",
              "    .dataframe thead th {\n",
              "        text-align: right;\n",
              "    }\n",
              "</style>\n",
              "<table border=\"1\" class=\"dataframe\">\n",
              "  <thead>\n",
              "    <tr style=\"text-align: right;\">\n",
              "      <th></th>\n",
              "      <th>location</th>\n",
              "      <th>size</th>\n",
              "      <th>total_sqft</th>\n",
              "      <th>bath</th>\n",
              "      <th>price</th>\n",
              "      <th>bhk</th>\n",
              "      <th>price_per_sqft</th>\n",
              "    </tr>\n",
              "  </thead>\n",
              "  <tbody>\n",
              "    <tr>\n",
              "      <th>0</th>\n",
              "      <td>DHA Defence</td>\n",
              "      <td>2 BHK</td>\n",
              "      <td>1056.0</td>\n",
              "      <td>2.0</td>\n",
              "      <td>39.07</td>\n",
              "      <td>2</td>\n",
              "      <td>3699.810606</td>\n",
              "    </tr>\n",
              "    <tr>\n",
              "      <th>1</th>\n",
              "      <td>North Nazimabad</td>\n",
              "      <td>4 Bedroom</td>\n",
              "      <td>2600.0</td>\n",
              "      <td>5.0</td>\n",
              "      <td>120.00</td>\n",
              "      <td>4</td>\n",
              "      <td>4615.384615</td>\n",
              "    </tr>\n",
              "    <tr>\n",
              "      <th>2</th>\n",
              "      <td>Saddar Town</td>\n",
              "      <td>3 BHK</td>\n",
              "      <td>1440.0</td>\n",
              "      <td>2.0</td>\n",
              "      <td>62.00</td>\n",
              "      <td>3</td>\n",
              "      <td>4305.555556</td>\n",
              "    </tr>\n",
              "    <tr>\n",
              "      <th>3</th>\n",
              "      <td>Gulshan-e-Iqbal Town</td>\n",
              "      <td>3 BHK</td>\n",
              "      <td>1521.0</td>\n",
              "      <td>3.0</td>\n",
              "      <td>95.00</td>\n",
              "      <td>3</td>\n",
              "      <td>6245.890861</td>\n",
              "    </tr>\n",
              "    <tr>\n",
              "      <th>4</th>\n",
              "      <td>Tariq Road</td>\n",
              "      <td>2 BHK</td>\n",
              "      <td>1200.0</td>\n",
              "      <td>2.0</td>\n",
              "      <td>51.00</td>\n",
              "      <td>2</td>\n",
              "      <td>4250.000000</td>\n",
              "    </tr>\n",
              "  </tbody>\n",
              "</table>\n",
              "</div>"
            ],
            "text/plain": [
              "               location       size  total_sqft  ...   price  bhk  price_per_sqft\n",
              "0           DHA Defence      2 BHK      1056.0  ...   39.07    2     3699.810606\n",
              "1       North Nazimabad  4 Bedroom      2600.0  ...  120.00    4     4615.384615\n",
              "2           Saddar Town      3 BHK      1440.0  ...   62.00    3     4305.555556\n",
              "3  Gulshan-e-Iqbal Town      3 BHK      1521.0  ...   95.00    3     6245.890861\n",
              "4            Tariq Road      2 BHK      1200.0  ...   51.00    2     4250.000000\n",
              "\n",
              "[5 rows x 7 columns]"
            ]
          },
          "metadata": {
            "tags": []
          },
          "execution_count": 104
        }
      ]
    },
    {
      "cell_type": "code",
      "metadata": {
        "colab": {
          "base_uri": "https://localhost:8080/"
        },
        "id": "05Kd5wNgzz77",
        "outputId": "0af6be3a-5fe9-4b3c-f831-d833f913c9e7"
      },
      "source": [
        "#how many locations are there its categorical features(text) if too many locations will create problem\r\n",
        "len(df5.location.unique()) "
      ],
      "execution_count": null,
      "outputs": [
        {
          "output_type": "execute_result",
          "data": {
            "text/plain": [
              "75"
            ]
          },
          "metadata": {
            "tags": []
          },
          "execution_count": 105
        }
      ]
    },
    {
      "cell_type": "code",
      "metadata": {
        "colab": {
          "base_uri": "https://localhost:8080/"
        },
        "id": "cwoAP510z1yD",
        "outputId": "78c31dd1-617d-48b8-f41b-234a2b300e04"
      },
      "source": [
        "#how many data points for location\r\n",
        "df5.loacation = df5.location.apply(lambda x: x.strip())\r\n",
        "\r\n",
        "location_stats = df5.groupby('location')['location'].agg('count')\r\n",
        "location_stats"
      ],
      "execution_count": null,
      "outputs": [
        {
          "output_type": "stream",
          "text": [
            "/usr/local/lib/python3.6/dist-packages/ipykernel_launcher.py:2: UserWarning: Pandas doesn't allow columns to be created via a new attribute name - see https://pandas.pydata.org/pandas-docs/stable/indexing.html#attribute-access\n",
            "  \n"
          ],
          "name": "stderr"
        },
        {
          "output_type": "execute_result",
          "data": {
            "text/plain": [
              "location\n",
              " North Karachi       241\n",
              "Abid Town            121\n",
              "Airport Road         242\n",
              "Beach Avenue         120\n",
              "Civic Centre         121\n",
              "                    ... \n",
              "Saddar Town          241\n",
              "Soldier Bazar        120\n",
              "Sunset Boulevard     122\n",
              "Tariq Road           240\n",
              "Zaibunnisa Street     24\n",
              "Name: location, Length: 75, dtype: int64"
            ]
          },
          "metadata": {
            "tags": []
          },
          "execution_count": 106
        }
      ]
    },
    {
      "cell_type": "code",
      "metadata": {
        "colab": {
          "base_uri": "https://localhost:8080/"
        },
        "id": "D9sVc42Vz4XT",
        "outputId": "fefd5042-052f-4541-d0cb-bdbd4f32c40f"
      },
      "source": [
        "location_stats = df5.groupby('location')['location'].agg('count').sort_values(ascending =False)\r\n",
        "location_stats"
      ],
      "execution_count": null,
      "outputs": [
        {
          "output_type": "execute_result",
          "data": {
            "text/plain": [
              "location\n",
              "Clifton                     961\n",
              "Kashmir Road                486\n",
              "Clifton Block nine          481\n",
              "Cornish Society Scheme      480\n",
              "Dhoraji Colony              357\n",
              "                           ... \n",
              "I I Chundrigar Road          24\n",
              "Zaibunnisa Street            24\n",
              "Old Golimar                   8\n",
              "Delhi Mercentile Society      8\n",
              "Drigh Road                    6\n",
              "Name: location, Length: 75, dtype: int64"
            ]
          },
          "metadata": {
            "tags": []
          },
          "execution_count": 107
        }
      ]
    },
    {
      "cell_type": "code",
      "metadata": {
        "colab": {
          "base_uri": "https://localhost:8080/"
        },
        "id": "gVuVwUjOz8pJ",
        "outputId": "f1043dc5-d53f-4cc7-eaeb-5dbfc627bca3"
      },
      "source": [
        "#locations will less than 10 datapoints\r\n",
        "len(location_stats[location_stats<=10])"
      ],
      "execution_count": null,
      "outputs": [
        {
          "output_type": "execute_result",
          "data": {
            "text/plain": [
              "3"
            ]
          },
          "metadata": {
            "tags": []
          },
          "execution_count": 108
        }
      ]
    },
    {
      "cell_type": "code",
      "metadata": {
        "colab": {
          "base_uri": "https://localhost:8080/"
        },
        "id": "vfFZTMlYz_4M",
        "outputId": "86f6eb77-4b36-43d3-ae34-0c38aa7f44a7"
      },
      "source": [
        "location_stats_less_than_10 = location_stats[location_stats<=10]\r\n",
        "location_stats_less_than_10"
      ],
      "execution_count": null,
      "outputs": [
        {
          "output_type": "execute_result",
          "data": {
            "text/plain": [
              "location\n",
              "Old Golimar                 8\n",
              "Delhi Mercentile Society    8\n",
              "Drigh Road                  6\n",
              "Name: location, dtype: int64"
            ]
          },
          "metadata": {
            "tags": []
          },
          "execution_count": 109
        }
      ]
    },
    {
      "cell_type": "code",
      "metadata": {
        "colab": {
          "base_uri": "https://localhost:8080/"
        },
        "id": "yBV-e2Wv0BqF",
        "outputId": "adc0ddac-4d4f-4063-d080-1fd9bb94d603"
      },
      "source": [
        "len(df5.location.unique())"
      ],
      "execution_count": null,
      "outputs": [
        {
          "output_type": "execute_result",
          "data": {
            "text/plain": [
              "75"
            ]
          },
          "metadata": {
            "tags": []
          },
          "execution_count": 110
        }
      ]
    },
    {
      "cell_type": "code",
      "metadata": {
        "colab": {
          "base_uri": "https://localhost:8080/"
        },
        "id": "cZyoAo4P0DUu",
        "outputId": "6a157970-16f4-4029-d5c2-82da4b72700c"
      },
      "source": [
        "#applying transformation\r\n",
        "df5.location = df5.location.apply(lambda x: 'other' if x in location_stats_less_than_10 else x)\r\n",
        "len(df5.location.unique())"
      ],
      "execution_count": null,
      "outputs": [
        {
          "output_type": "execute_result",
          "data": {
            "text/plain": [
              "73"
            ]
          },
          "metadata": {
            "tags": []
          },
          "execution_count": 111
        }
      ]
    },
    {
      "cell_type": "code",
      "metadata": {
        "colab": {
          "base_uri": "https://localhost:8080/",
          "height": 363
        },
        "id": "KFAfQech0Ghi",
        "outputId": "c55061ef-8369-4b2b-ee89-e4cad39398b5"
      },
      "source": [
        "df5.head(10)"
      ],
      "execution_count": null,
      "outputs": [
        {
          "output_type": "execute_result",
          "data": {
            "text/html": [
              "<div>\n",
              "<style scoped>\n",
              "    .dataframe tbody tr th:only-of-type {\n",
              "        vertical-align: middle;\n",
              "    }\n",
              "\n",
              "    .dataframe tbody tr th {\n",
              "        vertical-align: top;\n",
              "    }\n",
              "\n",
              "    .dataframe thead th {\n",
              "        text-align: right;\n",
              "    }\n",
              "</style>\n",
              "<table border=\"1\" class=\"dataframe\">\n",
              "  <thead>\n",
              "    <tr style=\"text-align: right;\">\n",
              "      <th></th>\n",
              "      <th>location</th>\n",
              "      <th>size</th>\n",
              "      <th>total_sqft</th>\n",
              "      <th>bath</th>\n",
              "      <th>price</th>\n",
              "      <th>bhk</th>\n",
              "      <th>price_per_sqft</th>\n",
              "    </tr>\n",
              "  </thead>\n",
              "  <tbody>\n",
              "    <tr>\n",
              "      <th>0</th>\n",
              "      <td>DHA Defence</td>\n",
              "      <td>2 BHK</td>\n",
              "      <td>1056.0</td>\n",
              "      <td>2.0</td>\n",
              "      <td>39.07</td>\n",
              "      <td>2</td>\n",
              "      <td>3699.810606</td>\n",
              "    </tr>\n",
              "    <tr>\n",
              "      <th>1</th>\n",
              "      <td>North Nazimabad</td>\n",
              "      <td>4 Bedroom</td>\n",
              "      <td>2600.0</td>\n",
              "      <td>5.0</td>\n",
              "      <td>120.00</td>\n",
              "      <td>4</td>\n",
              "      <td>4615.384615</td>\n",
              "    </tr>\n",
              "    <tr>\n",
              "      <th>2</th>\n",
              "      <td>Saddar Town</td>\n",
              "      <td>3 BHK</td>\n",
              "      <td>1440.0</td>\n",
              "      <td>2.0</td>\n",
              "      <td>62.00</td>\n",
              "      <td>3</td>\n",
              "      <td>4305.555556</td>\n",
              "    </tr>\n",
              "    <tr>\n",
              "      <th>3</th>\n",
              "      <td>Gulshan-e-Iqbal Town</td>\n",
              "      <td>3 BHK</td>\n",
              "      <td>1521.0</td>\n",
              "      <td>3.0</td>\n",
              "      <td>95.00</td>\n",
              "      <td>3</td>\n",
              "      <td>6245.890861</td>\n",
              "    </tr>\n",
              "    <tr>\n",
              "      <th>4</th>\n",
              "      <td>Tariq Road</td>\n",
              "      <td>2 BHK</td>\n",
              "      <td>1200.0</td>\n",
              "      <td>2.0</td>\n",
              "      <td>51.00</td>\n",
              "      <td>2</td>\n",
              "      <td>4250.000000</td>\n",
              "    </tr>\n",
              "    <tr>\n",
              "      <th>5</th>\n",
              "      <td>Clifton</td>\n",
              "      <td>2 BHK</td>\n",
              "      <td>1170.0</td>\n",
              "      <td>2.0</td>\n",
              "      <td>38.00</td>\n",
              "      <td>2</td>\n",
              "      <td>3247.863248</td>\n",
              "    </tr>\n",
              "    <tr>\n",
              "      <th>6</th>\n",
              "      <td>Frere Town</td>\n",
              "      <td>4 BHK</td>\n",
              "      <td>2732.0</td>\n",
              "      <td>4.0</td>\n",
              "      <td>204.00</td>\n",
              "      <td>4</td>\n",
              "      <td>7467.057101</td>\n",
              "    </tr>\n",
              "    <tr>\n",
              "      <th>7</th>\n",
              "      <td>Nazimabad</td>\n",
              "      <td>4 BHK</td>\n",
              "      <td>3300.0</td>\n",
              "      <td>4.0</td>\n",
              "      <td>600.00</td>\n",
              "      <td>4</td>\n",
              "      <td>18181.818182</td>\n",
              "    </tr>\n",
              "    <tr>\n",
              "      <th>8</th>\n",
              "      <td>Khalid Bin Walid Road</td>\n",
              "      <td>3 BHK</td>\n",
              "      <td>1310.0</td>\n",
              "      <td>3.0</td>\n",
              "      <td>63.25</td>\n",
              "      <td>3</td>\n",
              "      <td>4828.244275</td>\n",
              "    </tr>\n",
              "    <tr>\n",
              "      <th>9</th>\n",
              "      <td>Garden West</td>\n",
              "      <td>6 Bedroom</td>\n",
              "      <td>1020.0</td>\n",
              "      <td>6.0</td>\n",
              "      <td>370.00</td>\n",
              "      <td>6</td>\n",
              "      <td>36274.509804</td>\n",
              "    </tr>\n",
              "  </tbody>\n",
              "</table>\n",
              "</div>"
            ],
            "text/plain": [
              "                location       size  total_sqft  ...   price  bhk  price_per_sqft\n",
              "0            DHA Defence      2 BHK      1056.0  ...   39.07    2     3699.810606\n",
              "1        North Nazimabad  4 Bedroom      2600.0  ...  120.00    4     4615.384615\n",
              "2            Saddar Town      3 BHK      1440.0  ...   62.00    3     4305.555556\n",
              "3   Gulshan-e-Iqbal Town      3 BHK      1521.0  ...   95.00    3     6245.890861\n",
              "4             Tariq Road      2 BHK      1200.0  ...   51.00    2     4250.000000\n",
              "5                Clifton      2 BHK      1170.0  ...   38.00    2     3247.863248\n",
              "6             Frere Town      4 BHK      2732.0  ...  204.00    4     7467.057101\n",
              "7              Nazimabad      4 BHK      3300.0  ...  600.00    4    18181.818182\n",
              "8  Khalid Bin Walid Road      3 BHK      1310.0  ...   63.25    3     4828.244275\n",
              "9            Garden West  6 Bedroom      1020.0  ...  370.00    6    36274.509804\n",
              "\n",
              "[10 rows x 7 columns]"
            ]
          },
          "metadata": {
            "tags": []
          },
          "execution_count": 112
        }
      ]
    },
    {
      "cell_type": "markdown",
      "metadata": {
        "id": "8rEpJWan_Cx1"
      },
      "source": [
        "Outlier Removal Using Business Logic"
      ]
    },
    {
      "cell_type": "code",
      "metadata": {
        "colab": {
          "base_uri": "https://localhost:8080/",
          "height": 206
        },
        "id": "P5wZEibv0JC6",
        "outputId": "9e5cf9da-0048-4442-a148-9f7b2d71706b"
      },
      "source": [
        "#Outlier Detection & Removal\r\n",
        "#this are data errors but they just represent extreme variation \r\n",
        "#although they are valid it make sense to remove them\r\n",
        "\r\n",
        "\r\n",
        "df5[df5.total_sqft/df5.bhk<300].head()\r\n",
        "\r\n",
        "#we have 600 spft home and total no rooms 6 then it means 100 (600/6) its unusual \r\n",
        "#this is typical threeshold. we will examine our dataset \r\n",
        "#and try to find properties we will do that divide total sqft by bhk"
      ],
      "execution_count": null,
      "outputs": [
        {
          "output_type": "execute_result",
          "data": {
            "text/html": [
              "<div>\n",
              "<style scoped>\n",
              "    .dataframe tbody tr th:only-of-type {\n",
              "        vertical-align: middle;\n",
              "    }\n",
              "\n",
              "    .dataframe tbody tr th {\n",
              "        vertical-align: top;\n",
              "    }\n",
              "\n",
              "    .dataframe thead th {\n",
              "        text-align: right;\n",
              "    }\n",
              "</style>\n",
              "<table border=\"1\" class=\"dataframe\">\n",
              "  <thead>\n",
              "    <tr style=\"text-align: right;\">\n",
              "      <th></th>\n",
              "      <th>location</th>\n",
              "      <th>size</th>\n",
              "      <th>total_sqft</th>\n",
              "      <th>bath</th>\n",
              "      <th>price</th>\n",
              "      <th>bhk</th>\n",
              "      <th>price_per_sqft</th>\n",
              "    </tr>\n",
              "  </thead>\n",
              "  <tbody>\n",
              "    <tr>\n",
              "      <th>9</th>\n",
              "      <td>Garden West</td>\n",
              "      <td>6 Bedroom</td>\n",
              "      <td>1020.0</td>\n",
              "      <td>6.0</td>\n",
              "      <td>370.0</td>\n",
              "      <td>6</td>\n",
              "      <td>36274.509804</td>\n",
              "    </tr>\n",
              "    <tr>\n",
              "      <th>45</th>\n",
              "      <td>Malir</td>\n",
              "      <td>8 Bedroom</td>\n",
              "      <td>600.0</td>\n",
              "      <td>9.0</td>\n",
              "      <td>200.0</td>\n",
              "      <td>8</td>\n",
              "      <td>33333.333333</td>\n",
              "    </tr>\n",
              "    <tr>\n",
              "      <th>58</th>\n",
              "      <td>Kashmir Road</td>\n",
              "      <td>6 Bedroom</td>\n",
              "      <td>1407.0</td>\n",
              "      <td>4.0</td>\n",
              "      <td>150.0</td>\n",
              "      <td>6</td>\n",
              "      <td>10660.980810</td>\n",
              "    </tr>\n",
              "    <tr>\n",
              "      <th>68</th>\n",
              "      <td>Soldier Bazar</td>\n",
              "      <td>8 Bedroom</td>\n",
              "      <td>1350.0</td>\n",
              "      <td>7.0</td>\n",
              "      <td>85.0</td>\n",
              "      <td>8</td>\n",
              "      <td>6296.296296</td>\n",
              "    </tr>\n",
              "    <tr>\n",
              "      <th>70</th>\n",
              "      <td>Garden East</td>\n",
              "      <td>3 Bedroom</td>\n",
              "      <td>500.0</td>\n",
              "      <td>3.0</td>\n",
              "      <td>100.0</td>\n",
              "      <td>3</td>\n",
              "      <td>20000.000000</td>\n",
              "    </tr>\n",
              "  </tbody>\n",
              "</table>\n",
              "</div>"
            ],
            "text/plain": [
              "         location       size  total_sqft  bath  price  bhk  price_per_sqft\n",
              "9     Garden West  6 Bedroom      1020.0   6.0  370.0    6    36274.509804\n",
              "45          Malir  8 Bedroom       600.0   9.0  200.0    8    33333.333333\n",
              "58   Kashmir Road  6 Bedroom      1407.0   4.0  150.0    6    10660.980810\n",
              "68  Soldier Bazar  8 Bedroom      1350.0   7.0   85.0    8     6296.296296\n",
              "70    Garden East  3 Bedroom       500.0   3.0  100.0    3    20000.000000"
            ]
          },
          "metadata": {
            "tags": []
          },
          "execution_count": 113
        }
      ]
    },
    {
      "cell_type": "code",
      "metadata": {
        "colab": {
          "base_uri": "https://localhost:8080/"
        },
        "id": "_Qj4qKig0L6h",
        "outputId": "d6630587-64d2-446c-e664-0dd4c3da06c4"
      },
      "source": [
        "df5.shape"
      ],
      "execution_count": null,
      "outputs": [
        {
          "output_type": "execute_result",
          "data": {
            "text/plain": [
              "(13247, 7)"
            ]
          },
          "metadata": {
            "tags": []
          },
          "execution_count": 114
        }
      ]
    },
    {
      "cell_type": "code",
      "metadata": {
        "colab": {
          "base_uri": "https://localhost:8080/"
        },
        "id": "pFwdGLra0PFE",
        "outputId": "999ccd0e-5a1e-4165-cdcd-3aea7a2dda25"
      },
      "source": [
        "#we will remove threshold outliers\r\n",
        "df6 = df5[~(df5.total_sqft/df5.bhk<300)]\r\n",
        "df6.shape"
      ],
      "execution_count": null,
      "outputs": [
        {
          "output_type": "execute_result",
          "data": {
            "text/plain": [
              "(12503, 7)"
            ]
          },
          "metadata": {
            "tags": []
          },
          "execution_count": 115
        }
      ]
    },
    {
      "cell_type": "code",
      "metadata": {
        "colab": {
          "base_uri": "https://localhost:8080/"
        },
        "id": "i6GVjalf0RB_",
        "outputId": "1b1902c7-b92f-41bf-8374-ca7ea5227fd9"
      },
      "source": [
        "#will check price per sqft its very very high or low\r\n",
        "\r\n",
        "df6.price_per_sqft.describe()"
      ],
      "execution_count": null,
      "outputs": [
        {
          "output_type": "execute_result",
          "data": {
            "text/plain": [
              "count     12457.000000\n",
              "mean       6308.427888\n",
              "std        4167.968413\n",
              "min         267.829813\n",
              "25%        4210.526316\n",
              "50%        5294.117647\n",
              "75%        6916.666667\n",
              "max      176470.588235\n",
              "Name: price_per_sqft, dtype: float64"
            ]
          },
          "metadata": {
            "tags": []
          },
          "execution_count": 116
        }
      ]
    },
    {
      "cell_type": "code",
      "metadata": {
        "colab": {
          "base_uri": "https://localhost:8080/"
        },
        "id": "He2hESwO0UvV",
        "outputId": "6b31c2b6-0684-4f10-9a5c-fd3511dcf593"
      },
      "source": [
        "#funct which can remove price per sqft \r\n",
        "#outliers per location\r\n",
        "\r\n",
        "#per location find mean and standard deviation and filter out data points beyond one deviation\r\n",
        "\r\n",
        "def remove_pps_outliers(df):\r\n",
        "  df_out = pd.DataFrame()\r\n",
        "  for key, subdf in df.groupby('location'):\r\n",
        "    m = np.mean(subdf.price_per_sqft)\r\n",
        "    st = np.std(subdf.price_per_sqft)\r\n",
        "    reduced_df = subdf[(subdf.price_per_sqft>(m-st)) & (subdf.price_per_sqft<=(m+st))]\r\n",
        "    df_out = pd.concat([df_out,reduced_df],ignore_index= True)\r\n",
        "  return df_out\r\n",
        "\r\n",
        "df7 = remove_pps_outliers(df6)\r\n",
        "df7.shape"
      ],
      "execution_count": null,
      "outputs": [
        {
          "output_type": "execute_result",
          "data": {
            "text/plain": [
              "(11031, 7)"
            ]
          },
          "metadata": {
            "tags": []
          },
          "execution_count": 117
        }
      ]
    },
    {
      "cell_type": "markdown",
      "metadata": {
        "id": "L_bPiKRN0etU"
      },
      "source": [
        "**Visualization**"
      ]
    },
    {
      "cell_type": "code",
      "metadata": {
        "id": "wrCUlHGH0ZOH"
      },
      "source": [
        "#wether prop prices of 2bhk are more than 3bhk for same sqft area\r\n",
        "\r\n",
        "def plot_scatter_chart(df,location):\r\n",
        "  bhk2 = df[(df.location==location) & (df.bhk==2)]\r\n",
        "  bhk3 = df[(df.location==location) & (df.bhk==3)]\r\n",
        "  matplotlib.rcParams['figure.figsize'] = (15,10)\r\n",
        "  plt.scatter(bhk2.total_sqft,bhk2.price_per_sqft,color='blue',label='2 BHK', s=50)\r\n",
        "  plt.scatter(bhk3.total_sqft,bhk3.price_per_sqft,marker='+',color='green',label='3 BHK', s=50)\r\n",
        "  plt.xlabel(\"Total Square Feet Area\")\r\n",
        "  plt.ylabel(\"Price Per Square Feet\")\r\n",
        "  plt.title(location)\r\n",
        "  plt.legend()\r\n"
      ],
      "execution_count": null,
      "outputs": []
    },
    {
      "cell_type": "code",
      "metadata": {
        "colab": {
          "base_uri": "https://localhost:8080/",
          "height": 621
        },
        "id": "NzYangjX2m2O",
        "outputId": "ce1202b1-dffb-4884-fe99-0461e48dcf9c"
      },
      "source": [
        "plot_scatter_chart(df7,\"DHA Defence\")"
      ],
      "execution_count": null,
      "outputs": [
        {
          "output_type": "display_data",
          "data": {
            "image/png": "[encoded data removed]",
            "text/plain": [
              "<Figure size 1080x720 with 1 Axes>"
            ]
          },
          "metadata": {
            "tags": [],
            "needs_background": "light"
          }
        }
      ]
    },
    {
      "cell_type": "code",
      "metadata": {
        "id": "57TgMP2H3VFD"
      },
      "source": [
        "def plot_scatter_chart(df,location):\r\n",
        "  bhk2 = df[(df.location==location) & (df.bhk==2)]\r\n",
        "  bhk3 = df[(df.location==location) & (df.bhk==3)]\r\n",
        "  matplotlib.rcParams['figure.figsize'] = (15,10)\r\n",
        "  plt.scatter(bhk2.total_sqft,bhk2.price,color='blue',label='2 BHK', s=50)\r\n",
        "  plt.scatter(bhk3.total_sqft,bhk3.price,marker='+',color='green',label='3 BHK', s=50)\r\n",
        "  plt.xlabel(\"Total Square Feet Area\")\r\n",
        "  plt.ylabel(\"Price\")\r\n",
        "  plt.title(location)\r\n",
        "  plt.legend()"
      ],
      "execution_count": null,
      "outputs": []
    },
    {
      "cell_type": "code",
      "metadata": {
        "colab": {
          "base_uri": "https://localhost:8080/",
          "height": 621
        },
        "id": "wXFchOzt48m2",
        "outputId": "8239a3da-ebbf-4838-d7ee-a966cfd26c44"
      },
      "source": [
        "plot_scatter_chart(df7,\"Saddar Town\")"
      ],
      "execution_count": null,
      "outputs": [
        {
          "output_type": "display_data",
          "data": {
            "image/png": "[encoded data removed]",
            "text/plain": [
              "<Figure size 1080x720 with 1 Axes>"
            ]
          },
          "metadata": {
            "tags": [],
            "needs_background": "light"
          }
        }
      ]
    },
    {
      "cell_type": "markdown",
      "metadata": {
        "id": "aGoXPWke8MkJ"
      },
      "source": [
        "**we should also remove properties where for same location, the price of(for example) 3 bedroom appartment is less than 2 bedroom appartment(with same square ft area).what we will do is for a given location, we will build a dictionary of stats per bhk i.e.**\r\n",
        "\r\n",
        " {\r\n",
        "  '1' :{\r\n",
        "      'mean': 4000,\r\n",
        "      'std': 2000,\r\n",
        "      'count': 34\r\n",
        "      ),\r\n",
        "'2' :{\r\n",
        "      'mean': 4300,\r\n",
        "      'std': 2300,\r\n",
        "      'count': 22\r\n",
        "      ),\r\n",
        " }\r\n",
        "\r\n",
        "**now we can remove these 2BHK appartments whose price_per_sqft is less than mean price_per_sqft of 1BHK**\r\n",
        "\r\n",
        "\r\n",
        "\r\n"
      ]
    },
    {
      "cell_type": "code",
      "metadata": {
        "colab": {
          "base_uri": "https://localhost:8080/"
        },
        "id": "x_Ut4Ash4_iL",
        "outputId": "caf3e884-4e1d-44ee-9d38-c509736f1b61"
      },
      "source": [
        "def remove_bhk_outliers(df):\r\n",
        "    exclude_indices = np.array([])\r\n",
        "    for location, location_df in df.groupby('location'):\r\n",
        "        bhk_stats = {}\r\n",
        "        for bhk, bhk_df in location_df.groupby('bhk'):\r\n",
        "            bhk_stats[bhk] = {\r\n",
        "                'mean': np.mean(bhk_df.price_per_sqft),\r\n",
        "                'std': np.std(bhk_df.price_per_sqft),\r\n",
        "                'count': bhk_df.shape[0]\r\n",
        "            }\r\n",
        "        for bhk, bhk_df in location_df.groupby('bhk'):\r\n",
        "            stats = bhk_stats.get(bhk-1)\r\n",
        "            if stats and stats['count']>5:\r\n",
        "                exclude_indices = np.append(exclude_indices, bhk_df[bhk_df.price_per_sqft<(stats['mean'])].index.values)\r\n",
        "    return df.drop(exclude_indices,axis='index')\r\n",
        "\r\n",
        "df8 = remove_bhk_outliers(df7)\r\n",
        "df8.shape"
      ],
      "execution_count": null,
      "outputs": [
        {
          "output_type": "execute_result",
          "data": {
            "text/plain": [
              "(6742, 7)"
            ]
          },
          "metadata": {
            "tags": []
          },
          "execution_count": 122
        }
      ]
    },
    {
      "cell_type": "code",
      "metadata": {
        "colab": {
          "base_uri": "https://localhost:8080/",
          "height": 621
        },
        "id": "0JU9Mt8KAa7L",
        "outputId": "bfd6aa79-bc25-4453-c085-2bbf1c80f5de"
      },
      "source": [
        "plot_scatter_chart(df8,\"DHA Defence\")"
      ],
      "execution_count": null,
      "outputs": [
        {
          "output_type": "display_data",
          "data": {
            "image/png": "[encoded data removed]",
            "text/plain": [
              "<Figure size 1080x720 with 1 Axes>"
            ]
          },
          "metadata": {
            "tags": [],
            "needs_background": "light"
          }
        }
      ]
    },
    {
      "cell_type": "code",
      "metadata": {
        "colab": {
          "base_uri": "https://localhost:8080/",
          "height": 621
        },
        "id": "mj6e75NM_Lea",
        "outputId": "d336618e-b40a-4b8a-9c3f-faa036bf42a4"
      },
      "source": [
        "plot_scatter_chart(df8,\"North Nazimabad\")"
      ],
      "execution_count": null,
      "outputs": [
        {
          "output_type": "display_data",
          "data": {
            "image/png": "[encoded data removed]",
            "text/plain": [
              "<Figure size 1080x720 with 1 Axes>"
            ]
          },
          "metadata": {
            "tags": [],
            "needs_background": "light"
          }
        }
      ]
    },
    {
      "cell_type": "code",
      "metadata": {
        "colab": {
          "base_uri": "https://localhost:8080/",
          "height": 624
        },
        "id": "w_hS1zEB_lHo",
        "outputId": "a5174683-df08-426e-c9c5-69107eeb74fb"
      },
      "source": [
        "import matplotlib\r\n",
        "matplotlib.rcParams[\"figure.figsize\"] = (20,10)\r\n",
        "plt.hist(df8.price_per_sqft,rwidth=0.8)\r\n",
        "plt.xlabel(\"Price Per Square Feet\")\r\n",
        "plt.ylabel(\"Count\")"
      ],
      "execution_count": null,
      "outputs": [
        {
          "output_type": "execute_result",
          "data": {
            "text/plain": [
              "Text(0, 0.5, 'Count')"
            ]
          },
          "metadata": {
            "tags": []
          },
          "execution_count": 125
        },
        {
          "output_type": "display_data",
          "data": {
            "image/png": "[encoded data removed]",
            "text/plain": [
              "<Figure size 1440x720 with 1 Axes>"
            ]
          },
          "metadata": {
            "tags": [],
            "needs_background": "light"
          }
        }
      ]
    },
    {
      "cell_type": "markdown",
      "metadata": {
        "id": "cb59kynVBNTV"
      },
      "source": [
        "\r\n",
        "Outlier Removal Using Bathrooms Feature\r\n"
      ]
    },
    {
      "cell_type": "code",
      "metadata": {
        "colab": {
          "base_uri": "https://localhost:8080/"
        },
        "id": "b4yQhObEAShR",
        "outputId": "09707095-ef3f-431e-9313-68668bdc7998"
      },
      "source": [
        "df8.bath.unique()"
      ],
      "execution_count": null,
      "outputs": [
        {
          "output_type": "execute_result",
          "data": {
            "text/plain": [
              "array([ 1.,  2.,  3.,  5.,  4.,  6.,  7.,  8.,  9., 12., 16., 13., 10.])"
            ]
          },
          "metadata": {
            "tags": []
          },
          "execution_count": 126
        }
      ]
    },
    {
      "cell_type": "code",
      "metadata": {
        "colab": {
          "base_uri": "https://localhost:8080/",
          "height": 175
        },
        "id": "yMqqIvXABfkZ",
        "outputId": "2f524e04-5c0a-4016-b6d7-5e769ee80898"
      },
      "source": [
        "df8[df8.bath>10]"
      ],
      "execution_count": null,
      "outputs": [
        {
          "output_type": "execute_result",
          "data": {
            "text/html": [
              "<div>\n",
              "<style scoped>\n",
              "    .dataframe tbody tr th:only-of-type {\n",
              "        vertical-align: middle;\n",
              "    }\n",
              "\n",
              "    .dataframe tbody tr th {\n",
              "        vertical-align: top;\n",
              "    }\n",
              "\n",
              "    .dataframe thead th {\n",
              "        text-align: right;\n",
              "    }\n",
              "</style>\n",
              "<table border=\"1\" class=\"dataframe\">\n",
              "  <thead>\n",
              "    <tr style=\"text-align: right;\">\n",
              "      <th></th>\n",
              "      <th>location</th>\n",
              "      <th>size</th>\n",
              "      <th>total_sqft</th>\n",
              "      <th>bath</th>\n",
              "      <th>price</th>\n",
              "      <th>bhk</th>\n",
              "      <th>price_per_sqft</th>\n",
              "    </tr>\n",
              "  </thead>\n",
              "  <tbody>\n",
              "    <tr>\n",
              "      <th>4142</th>\n",
              "      <td>Gulistan-e-Jauhar</td>\n",
              "      <td>10 BHK</td>\n",
              "      <td>12000.0</td>\n",
              "      <td>12.0</td>\n",
              "      <td>525.0</td>\n",
              "      <td>10</td>\n",
              "      <td>4375.000000</td>\n",
              "    </tr>\n",
              "    <tr>\n",
              "      <th>4150</th>\n",
              "      <td>Gulistan-e-Jauhar</td>\n",
              "      <td>16 BHK</td>\n",
              "      <td>10000.0</td>\n",
              "      <td>16.0</td>\n",
              "      <td>550.0</td>\n",
              "      <td>16</td>\n",
              "      <td>5500.000000</td>\n",
              "    </tr>\n",
              "    <tr>\n",
              "      <th>4617</th>\n",
              "      <td>Gulshan-e-Iqbal Town</td>\n",
              "      <td>10 BHK</td>\n",
              "      <td>4000.0</td>\n",
              "      <td>12.0</td>\n",
              "      <td>160.0</td>\n",
              "      <td>10</td>\n",
              "      <td>4000.000000</td>\n",
              "    </tr>\n",
              "    <tr>\n",
              "      <th>6007</th>\n",
              "      <td>Khaliq-uz-Zaman</td>\n",
              "      <td>13 BHK</td>\n",
              "      <td>5425.0</td>\n",
              "      <td>13.0</td>\n",
              "      <td>275.0</td>\n",
              "      <td>13</td>\n",
              "      <td>5069.124424</td>\n",
              "    </tr>\n",
              "  </tbody>\n",
              "</table>\n",
              "</div>"
            ],
            "text/plain": [
              "                  location    size  total_sqft  ...  price  bhk  price_per_sqft\n",
              "4142    Gulistan-e-Jauhar   10 BHK     12000.0  ...  525.0   10     4375.000000\n",
              "4150    Gulistan-e-Jauhar   16 BHK     10000.0  ...  550.0   16     5500.000000\n",
              "4617  Gulshan-e-Iqbal Town  10 BHK      4000.0  ...  160.0   10     4000.000000\n",
              "6007       Khaliq-uz-Zaman  13 BHK      5425.0  ...  275.0   13     5069.124424\n",
              "\n",
              "[4 rows x 7 columns]"
            ]
          },
          "metadata": {
            "tags": []
          },
          "execution_count": 127
        }
      ]
    },
    {
      "cell_type": "code",
      "metadata": {
        "colab": {
          "base_uri": "https://localhost:8080/",
          "height": 624
        },
        "id": "_mx9iwWyBSSm",
        "outputId": "4a95bafb-7a2e-45e5-a7b6-4f84a9cc9063"
      },
      "source": [
        "plt.hist(df8.bath,rwidth=0.8)\r\n",
        "plt.xlabel(\"Number of bathrooms\")\r\n",
        "plt.ylabel(\"Count\")"
      ],
      "execution_count": null,
      "outputs": [
        {
          "output_type": "execute_result",
          "data": {
            "text/plain": [
              "Text(0, 0.5, 'Count')"
            ]
          },
          "metadata": {
            "tags": []
          },
          "execution_count": 128
        },
        {
          "output_type": "display_data",
          "data": {
            "image/png": "[encoded data removed]",
            "text/plain": [
              "<Figure size 1440x720 with 1 Axes>"
            ]
          },
          "metadata": {
            "tags": [],
            "needs_background": "light"
          }
        }
      ]
    },
    {
      "cell_type": "code",
      "metadata": {
        "colab": {
          "base_uri": "https://localhost:8080/",
          "height": 143
        },
        "id": "tMUzE1EkBUQ7",
        "outputId": "358882e2-32b7-48df-92ec-8f1aa9b2153f"
      },
      "source": [
        "#unusual to have 2 more bathrooms than number of bedrooms in a home\r\n",
        "df8[df8.bath>df8.bhk+2]"
      ],
      "execution_count": null,
      "outputs": [
        {
          "output_type": "execute_result",
          "data": {
            "text/html": [
              "<div>\n",
              "<style scoped>\n",
              "    .dataframe tbody tr th:only-of-type {\n",
              "        vertical-align: middle;\n",
              "    }\n",
              "\n",
              "    .dataframe tbody tr th {\n",
              "        vertical-align: top;\n",
              "    }\n",
              "\n",
              "    .dataframe thead th {\n",
              "        text-align: right;\n",
              "    }\n",
              "</style>\n",
              "<table border=\"1\" class=\"dataframe\">\n",
              "  <thead>\n",
              "    <tr style=\"text-align: right;\">\n",
              "      <th></th>\n",
              "      <th>location</th>\n",
              "      <th>size</th>\n",
              "      <th>total_sqft</th>\n",
              "      <th>bath</th>\n",
              "      <th>price</th>\n",
              "      <th>bhk</th>\n",
              "      <th>price_per_sqft</th>\n",
              "    </tr>\n",
              "  </thead>\n",
              "  <tbody>\n",
              "    <tr>\n",
              "      <th>560</th>\n",
              "      <td>Beach Avenue</td>\n",
              "      <td>4 Bedroom</td>\n",
              "      <td>7000.0</td>\n",
              "      <td>8.0</td>\n",
              "      <td>450.0</td>\n",
              "      <td>4</td>\n",
              "      <td>6428.571429</td>\n",
              "    </tr>\n",
              "    <tr>\n",
              "      <th>9965</th>\n",
              "      <td>PECHS</td>\n",
              "      <td>3 BHK</td>\n",
              "      <td>1806.0</td>\n",
              "      <td>6.0</td>\n",
              "      <td>116.0</td>\n",
              "      <td>3</td>\n",
              "      <td>6423.034330</td>\n",
              "    </tr>\n",
              "    <tr>\n",
              "      <th>10835</th>\n",
              "      <td>Tariq Road</td>\n",
              "      <td>6 BHK</td>\n",
              "      <td>11338.0</td>\n",
              "      <td>9.0</td>\n",
              "      <td>1000.0</td>\n",
              "      <td>6</td>\n",
              "      <td>8819.897689</td>\n",
              "    </tr>\n",
              "  </tbody>\n",
              "</table>\n",
              "</div>"
            ],
            "text/plain": [
              "           location       size  total_sqft  bath   price  bhk  price_per_sqft\n",
              "560    Beach Avenue  4 Bedroom      7000.0   8.0   450.0    4     6428.571429\n",
              "9965          PECHS      3 BHK      1806.0   6.0   116.0    3     6423.034330\n",
              "10835    Tariq Road      6 BHK     11338.0   9.0  1000.0    6     8819.897689"
            ]
          },
          "metadata": {
            "tags": []
          },
          "execution_count": 129
        }
      ]
    },
    {
      "cell_type": "code",
      "metadata": {
        "colab": {
          "base_uri": "https://localhost:8080/"
        },
        "id": "3oR-tTYhCNyF",
        "outputId": "d558151d-b25a-46fa-b19a-d87d7acc32db"
      },
      "source": [
        "df9 = df8[df8.bath<df8.bhk+2]\r\n",
        "df9.shape"
      ],
      "execution_count": null,
      "outputs": [
        {
          "output_type": "execute_result",
          "data": {
            "text/plain": [
              "(6666, 7)"
            ]
          },
          "metadata": {
            "tags": []
          },
          "execution_count": 130
        }
      ]
    },
    {
      "cell_type": "code",
      "metadata": {
        "colab": {
          "base_uri": "https://localhost:8080/",
          "height": 112
        },
        "id": "DeC4ODVHCVxW",
        "outputId": "d246f7ca-c61f-4809-963c-bbaea7a816f4"
      },
      "source": [
        "df9.head(2)"
      ],
      "execution_count": null,
      "outputs": [
        {
          "output_type": "execute_result",
          "data": {
            "text/html": [
              "<div>\n",
              "<style scoped>\n",
              "    .dataframe tbody tr th:only-of-type {\n",
              "        vertical-align: middle;\n",
              "    }\n",
              "\n",
              "    .dataframe tbody tr th {\n",
              "        vertical-align: top;\n",
              "    }\n",
              "\n",
              "    .dataframe thead th {\n",
              "        text-align: right;\n",
              "    }\n",
              "</style>\n",
              "<table border=\"1\" class=\"dataframe\">\n",
              "  <thead>\n",
              "    <tr style=\"text-align: right;\">\n",
              "      <th></th>\n",
              "      <th>location</th>\n",
              "      <th>size</th>\n",
              "      <th>total_sqft</th>\n",
              "      <th>bath</th>\n",
              "      <th>price</th>\n",
              "      <th>bhk</th>\n",
              "      <th>price_per_sqft</th>\n",
              "    </tr>\n",
              "  </thead>\n",
              "  <tbody>\n",
              "    <tr>\n",
              "      <th>0</th>\n",
              "      <td>North Karachi</td>\n",
              "      <td>1 BHK</td>\n",
              "      <td>510.0</td>\n",
              "      <td>1.0</td>\n",
              "      <td>25.25</td>\n",
              "      <td>1</td>\n",
              "      <td>4950.980392</td>\n",
              "    </tr>\n",
              "    <tr>\n",
              "      <th>6</th>\n",
              "      <td>North Karachi</td>\n",
              "      <td>2 BHK</td>\n",
              "      <td>1196.0</td>\n",
              "      <td>2.0</td>\n",
              "      <td>94.42</td>\n",
              "      <td>2</td>\n",
              "      <td>7894.648829</td>\n",
              "    </tr>\n",
              "  </tbody>\n",
              "</table>\n",
              "</div>"
            ],
            "text/plain": [
              "         location   size  total_sqft  bath  price  bhk  price_per_sqft\n",
              "0   North Karachi  1 BHK       510.0   1.0  25.25    1     4950.980392\n",
              "6   North Karachi  2 BHK      1196.0   2.0  94.42    2     7894.648829"
            ]
          },
          "metadata": {
            "tags": []
          },
          "execution_count": 131
        }
      ]
    },
    {
      "cell_type": "code",
      "metadata": {
        "colab": {
          "base_uri": "https://localhost:8080/",
          "height": 143
        },
        "id": "RxChX11HDCeA",
        "outputId": "e92c0e03-bdd6-4d6a-8257-2aca2a5b0f5d"
      },
      "source": [
        "df10 = df9.drop(['size','price_per_sqft'],axis='columns')\r\n",
        "df10.head(3)"
      ],
      "execution_count": null,
      "outputs": [
        {
          "output_type": "execute_result",
          "data": {
            "text/html": [
              "<div>\n",
              "<style scoped>\n",
              "    .dataframe tbody tr th:only-of-type {\n",
              "        vertical-align: middle;\n",
              "    }\n",
              "\n",
              "    .dataframe tbody tr th {\n",
              "        vertical-align: top;\n",
              "    }\n",
              "\n",
              "    .dataframe thead th {\n",
              "        text-align: right;\n",
              "    }\n",
              "</style>\n",
              "<table border=\"1\" class=\"dataframe\">\n",
              "  <thead>\n",
              "    <tr style=\"text-align: right;\">\n",
              "      <th></th>\n",
              "      <th>location</th>\n",
              "      <th>total_sqft</th>\n",
              "      <th>bath</th>\n",
              "      <th>price</th>\n",
              "      <th>bhk</th>\n",
              "    </tr>\n",
              "  </thead>\n",
              "  <tbody>\n",
              "    <tr>\n",
              "      <th>0</th>\n",
              "      <td>North Karachi</td>\n",
              "      <td>510.0</td>\n",
              "      <td>1.0</td>\n",
              "      <td>25.25</td>\n",
              "      <td>1</td>\n",
              "    </tr>\n",
              "    <tr>\n",
              "      <th>6</th>\n",
              "      <td>North Karachi</td>\n",
              "      <td>1196.0</td>\n",
              "      <td>2.0</td>\n",
              "      <td>94.42</td>\n",
              "      <td>2</td>\n",
              "    </tr>\n",
              "    <tr>\n",
              "      <th>8</th>\n",
              "      <td>North Karachi</td>\n",
              "      <td>1640.0</td>\n",
              "      <td>2.0</td>\n",
              "      <td>120.00</td>\n",
              "      <td>3</td>\n",
              "    </tr>\n",
              "  </tbody>\n",
              "</table>\n",
              "</div>"
            ],
            "text/plain": [
              "         location  total_sqft  bath   price  bhk\n",
              "0   North Karachi       510.0   1.0   25.25    1\n",
              "6   North Karachi      1196.0   2.0   94.42    2\n",
              "8   North Karachi      1640.0   2.0  120.00    3"
            ]
          },
          "metadata": {
            "tags": []
          },
          "execution_count": 132
        }
      ]
    },
    {
      "cell_type": "markdown",
      "metadata": {
        "id": "WcNXx4bpFFTq"
      },
      "source": [
        "**Model Building**"
      ]
    },
    {
      "cell_type": "code",
      "metadata": {
        "colab": {
          "base_uri": "https://localhost:8080/",
          "height": 215
        },
        "id": "D22GROJDFCBE",
        "outputId": "f12f7b3e-e0b9-4198-8b37-ad6d672f4fbb"
      },
      "source": [
        "dummies = pd.get_dummies(df10.location)\r\n",
        "dummies.head(3)"
      ],
      "execution_count": null,
      "outputs": [
        {
          "output_type": "execute_result",
          "data": {
            "text/html": [
              "<div>\n",
              "<style scoped>\n",
              "    .dataframe tbody tr th:only-of-type {\n",
              "        vertical-align: middle;\n",
              "    }\n",
              "\n",
              "    .dataframe tbody tr th {\n",
              "        vertical-align: top;\n",
              "    }\n",
              "\n",
              "    .dataframe thead th {\n",
              "        text-align: right;\n",
              "    }\n",
              "</style>\n",
              "<table border=\"1\" class=\"dataframe\">\n",
              "  <thead>\n",
              "    <tr style=\"text-align: right;\">\n",
              "      <th></th>\n",
              "      <th>North Karachi</th>\n",
              "      <th>Abid Town</th>\n",
              "      <th>Airport Road</th>\n",
              "      <th>Beach Avenue</th>\n",
              "      <th>Civic Centre</th>\n",
              "      <th>Clifton</th>\n",
              "      <th>Clifton Block nine</th>\n",
              "      <th>Commercial Avenue</th>\n",
              "      <th>Cornish Society Scheme</th>\n",
              "      <th>DHA Defence</th>\n",
              "      <th>DHA Phase seven</th>\n",
              "      <th>DHA Phase six</th>\n",
              "      <th>Defence Garden</th>\n",
              "      <th>Dhoraji Colony</th>\n",
              "      <th>Frere Town</th>\n",
              "      <th>Garden East</th>\n",
              "      <th>Garden West</th>\n",
              "      <th>Gohar Green City</th>\n",
              "      <th>Gulistan-e-Jauhar</th>\n",
              "      <th>Gulshan-E-Iqbal one</th>\n",
              "      <th>Gulshan-E-Iqbal two</th>\n",
              "      <th>Gulshan-e-Iqbal Town</th>\n",
              "      <th>Hill Park</th>\n",
              "      <th>I I Chundrigar Road</th>\n",
              "      <th>Jamshed Quarter</th>\n",
              "      <th>Jamshed Town</th>\n",
              "      <th>Karimabad</th>\n",
              "      <th>Kashmir Road</th>\n",
              "      <th>Kehkashan</th>\n",
              "      <th>Khalid Bin Walid Road</th>\n",
              "      <th>Khaliq-uz-Zaman</th>\n",
              "      <th>Khayaban-e-Badban</th>\n",
              "      <th>Khayaban-e-Bahria</th>\n",
              "      <th>Khayaban-e-Bukhari</th>\n",
              "      <th>Khayaban-e-Hafiz</th>\n",
              "      <th>Khayaban-e-Hilal</th>\n",
              "      <th>Khayaban-e-Ittehad</th>\n",
              "      <th>Khayaban-e-Jami</th>\n",
              "      <th>Khayaban-e-Janbaz</th>\n",
              "      <th>Khayaban-e-Muhafiz</th>\n",
              "      <th>Khayaban-e-Mujahid</th>\n",
              "      <th>Khayaban-e-Muslim</th>\n",
              "      <th>Khayaban-e-Nishat</th>\n",
              "      <th>Khayaban-e-Rahat</th>\n",
              "      <th>Khayaban-e-Sehar</th>\n",
              "      <th>Khayaban-e-Shahbaz</th>\n",
              "      <th>Khayaban-e-Shaheen</th>\n",
              "      <th>Khayaban-e-Shamsheer</th>\n",
              "      <th>Khayaban-e-Shujaat</th>\n",
              "      <th>Khayaban-e-Tanzeem</th>\n",
              "      <th>Khayaban-e-Tariq</th>\n",
              "      <th>Khayaban-e-Tauheed</th>\n",
              "      <th>Khayabane-e-Amir Khusro</th>\n",
              "      <th>Korangi Creek</th>\n",
              "      <th>Korangi Road</th>\n",
              "      <th>Malir</th>\n",
              "      <th>Mehmoodabad</th>\n",
              "      <th>Muslimabad</th>\n",
              "      <th>Napier Road</th>\n",
              "      <th>Navy Housing Scheme Karsaz</th>\n",
              "      <th>Nazimabad</th>\n",
              "      <th>North Karachi</th>\n",
              "      <th>North Nazimabad</th>\n",
              "      <th>PECHS</th>\n",
              "      <th>PIB Colony</th>\n",
              "      <th>Punjab Colony</th>\n",
              "      <th>Saba Avenue</th>\n",
              "      <th>Saddar Town</th>\n",
              "      <th>Soldier Bazar</th>\n",
              "      <th>Sunset Boulevard</th>\n",
              "      <th>Tariq Road</th>\n",
              "      <th>Zaibunnisa Street</th>\n",
              "      <th>other</th>\n",
              "    </tr>\n",
              "  </thead>\n",
              "  <tbody>\n",
              "    <tr>\n",
              "      <th>0</th>\n",
              "      <td>1</td>\n",
              "      <td>0</td>\n",
              "      <td>0</td>\n",
              "      <td>0</td>\n",
              "      <td>0</td>\n",
              "      <td>0</td>\n",
              "      <td>0</td>\n",
              "      <td>0</td>\n",
              "      <td>0</td>\n",
              "      <td>0</td>\n",
              "      <td>0</td>\n",
              "      <td>0</td>\n",
              "      <td>0</td>\n",
              "      <td>0</td>\n",
              "      <td>0</td>\n",
              "      <td>0</td>\n",
              "      <td>0</td>\n",
              "      <td>0</td>\n",
              "      <td>0</td>\n",
              "      <td>0</td>\n",
              "      <td>0</td>\n",
              "      <td>0</td>\n",
              "      <td>0</td>\n",
              "      <td>0</td>\n",
              "      <td>0</td>\n",
              "      <td>0</td>\n",
              "      <td>0</td>\n",
              "      <td>0</td>\n",
              "      <td>0</td>\n",
              "      <td>0</td>\n",
              "      <td>0</td>\n",
              "      <td>0</td>\n",
              "      <td>0</td>\n",
              "      <td>0</td>\n",
              "      <td>0</td>\n",
              "      <td>0</td>\n",
              "      <td>0</td>\n",
              "      <td>0</td>\n",
              "      <td>0</td>\n",
              "      <td>0</td>\n",
              "      <td>0</td>\n",
              "      <td>0</td>\n",
              "      <td>0</td>\n",
              "      <td>0</td>\n",
              "      <td>0</td>\n",
              "      <td>0</td>\n",
              "      <td>0</td>\n",
              "      <td>0</td>\n",
              "      <td>0</td>\n",
              "      <td>0</td>\n",
              "      <td>0</td>\n",
              "      <td>0</td>\n",
              "      <td>0</td>\n",
              "      <td>0</td>\n",
              "      <td>0</td>\n",
              "      <td>0</td>\n",
              "      <td>0</td>\n",
              "      <td>0</td>\n",
              "      <td>0</td>\n",
              "      <td>0</td>\n",
              "      <td>0</td>\n",
              "      <td>0</td>\n",
              "      <td>0</td>\n",
              "      <td>0</td>\n",
              "      <td>0</td>\n",
              "      <td>0</td>\n",
              "      <td>0</td>\n",
              "      <td>0</td>\n",
              "      <td>0</td>\n",
              "      <td>0</td>\n",
              "      <td>0</td>\n",
              "      <td>0</td>\n",
              "      <td>0</td>\n",
              "    </tr>\n",
              "    <tr>\n",
              "      <th>6</th>\n",
              "      <td>1</td>\n",
              "      <td>0</td>\n",
              "      <td>0</td>\n",
              "      <td>0</td>\n",
              "      <td>0</td>\n",
              "      <td>0</td>\n",
              "      <td>0</td>\n",
              "      <td>0</td>\n",
              "      <td>0</td>\n",
              "      <td>0</td>\n",
              "      <td>0</td>\n",
              "      <td>0</td>\n",
              "      <td>0</td>\n",
              "      <td>0</td>\n",
              "      <td>0</td>\n",
              "      <td>0</td>\n",
              "      <td>0</td>\n",
              "      <td>0</td>\n",
              "      <td>0</td>\n",
              "      <td>0</td>\n",
              "      <td>0</td>\n",
              "      <td>0</td>\n",
              "      <td>0</td>\n",
              "      <td>0</td>\n",
              "      <td>0</td>\n",
              "      <td>0</td>\n",
              "      <td>0</td>\n",
              "      <td>0</td>\n",
              "      <td>0</td>\n",
              "      <td>0</td>\n",
              "      <td>0</td>\n",
              "      <td>0</td>\n",
              "      <td>0</td>\n",
              "      <td>0</td>\n",
              "      <td>0</td>\n",
              "      <td>0</td>\n",
              "      <td>0</td>\n",
              "      <td>0</td>\n",
              "      <td>0</td>\n",
              "      <td>0</td>\n",
              "      <td>0</td>\n",
              "      <td>0</td>\n",
              "      <td>0</td>\n",
              "      <td>0</td>\n",
              "      <td>0</td>\n",
              "      <td>0</td>\n",
              "      <td>0</td>\n",
              "      <td>0</td>\n",
              "      <td>0</td>\n",
              "      <td>0</td>\n",
              "      <td>0</td>\n",
              "      <td>0</td>\n",
              "      <td>0</td>\n",
              "      <td>0</td>\n",
              "      <td>0</td>\n",
              "      <td>0</td>\n",
              "      <td>0</td>\n",
              "      <td>0</td>\n",
              "      <td>0</td>\n",
              "      <td>0</td>\n",
              "      <td>0</td>\n",
              "      <td>0</td>\n",
              "      <td>0</td>\n",
              "      <td>0</td>\n",
              "      <td>0</td>\n",
              "      <td>0</td>\n",
              "      <td>0</td>\n",
              "      <td>0</td>\n",
              "      <td>0</td>\n",
              "      <td>0</td>\n",
              "      <td>0</td>\n",
              "      <td>0</td>\n",
              "      <td>0</td>\n",
              "    </tr>\n",
              "    <tr>\n",
              "      <th>8</th>\n",
              "      <td>1</td>\n",
              "      <td>0</td>\n",
              "      <td>0</td>\n",
              "      <td>0</td>\n",
              "      <td>0</td>\n",
              "      <td>0</td>\n",
              "      <td>0</td>\n",
              "      <td>0</td>\n",
              "      <td>0</td>\n",
              "      <td>0</td>\n",
              "      <td>0</td>\n",
              "      <td>0</td>\n",
              "      <td>0</td>\n",
              "      <td>0</td>\n",
              "      <td>0</td>\n",
              "      <td>0</td>\n",
              "      <td>0</td>\n",
              "      <td>0</td>\n",
              "      <td>0</td>\n",
              "      <td>0</td>\n",
              "      <td>0</td>\n",
              "      <td>0</td>\n",
              "      <td>0</td>\n",
              "      <td>0</td>\n",
              "      <td>0</td>\n",
              "      <td>0</td>\n",
              "      <td>0</td>\n",
              "      <td>0</td>\n",
              "      <td>0</td>\n",
              "      <td>0</td>\n",
              "      <td>0</td>\n",
              "      <td>0</td>\n",
              "      <td>0</td>\n",
              "      <td>0</td>\n",
              "      <td>0</td>\n",
              "      <td>0</td>\n",
              "      <td>0</td>\n",
              "      <td>0</td>\n",
              "      <td>0</td>\n",
              "      <td>0</td>\n",
              "      <td>0</td>\n",
              "      <td>0</td>\n",
              "      <td>0</td>\n",
              "      <td>0</td>\n",
              "      <td>0</td>\n",
              "      <td>0</td>\n",
              "      <td>0</td>\n",
              "      <td>0</td>\n",
              "      <td>0</td>\n",
              "      <td>0</td>\n",
              "      <td>0</td>\n",
              "      <td>0</td>\n",
              "      <td>0</td>\n",
              "      <td>0</td>\n",
              "      <td>0</td>\n",
              "      <td>0</td>\n",
              "      <td>0</td>\n",
              "      <td>0</td>\n",
              "      <td>0</td>\n",
              "      <td>0</td>\n",
              "      <td>0</td>\n",
              "      <td>0</td>\n",
              "      <td>0</td>\n",
              "      <td>0</td>\n",
              "      <td>0</td>\n",
              "      <td>0</td>\n",
              "      <td>0</td>\n",
              "      <td>0</td>\n",
              "      <td>0</td>\n",
              "      <td>0</td>\n",
              "      <td>0</td>\n",
              "      <td>0</td>\n",
              "      <td>0</td>\n",
              "    </tr>\n",
              "  </tbody>\n",
              "</table>\n",
              "</div>"
            ],
            "text/plain": [
              "    North Karachi  Abid Town  ...  Zaibunnisa Street  other\n",
              "0               1          0  ...                  0      0\n",
              "6               1          0  ...                  0      0\n",
              "8               1          0  ...                  0      0\n",
              "\n",
              "[3 rows x 73 columns]"
            ]
          },
          "metadata": {
            "tags": []
          },
          "execution_count": 133
        }
      ]
    },
    {
      "cell_type": "code",
      "metadata": {
        "colab": {
          "base_uri": "https://localhost:8080/",
          "height": 365
        },
        "id": "or-vqg2yDOZY",
        "outputId": "fa0c647c-3c79-48f2-e37d-df86eff8c49b"
      },
      "source": [
        "df11 = pd.concat([df10,dummies.drop('other',axis='columns')],axis='columns')\r\n",
        "df11.head()"
      ],
      "execution_count": null,
      "outputs": [
        {
          "output_type": "execute_result",
          "data": {
            "text/html": [
              "<div>\n",
              "<style scoped>\n",
              "    .dataframe tbody tr th:only-of-type {\n",
              "        vertical-align: middle;\n",
              "    }\n",
              "\n",
              "    .dataframe tbody tr th {\n",
              "        vertical-align: top;\n",
              "    }\n",
              "\n",
              "    .dataframe thead th {\n",
              "        text-align: right;\n",
              "    }\n",
              "</style>\n",
              "<table border=\"1\" class=\"dataframe\">\n",
              "  <thead>\n",
              "    <tr style=\"text-align: right;\">\n",
              "      <th></th>\n",
              "      <th>location</th>\n",
              "      <th>total_sqft</th>\n",
              "      <th>bath</th>\n",
              "      <th>price</th>\n",
              "      <th>bhk</th>\n",
              "      <th>North Karachi</th>\n",
              "      <th>Abid Town</th>\n",
              "      <th>Airport Road</th>\n",
              "      <th>Beach Avenue</th>\n",
              "      <th>Civic Centre</th>\n",
              "      <th>Clifton</th>\n",
              "      <th>Clifton Block nine</th>\n",
              "      <th>Commercial Avenue</th>\n",
              "      <th>Cornish Society Scheme</th>\n",
              "      <th>DHA Defence</th>\n",
              "      <th>DHA Phase seven</th>\n",
              "      <th>DHA Phase six</th>\n",
              "      <th>Defence Garden</th>\n",
              "      <th>Dhoraji Colony</th>\n",
              "      <th>Frere Town</th>\n",
              "      <th>Garden East</th>\n",
              "      <th>Garden West</th>\n",
              "      <th>Gohar Green City</th>\n",
              "      <th>Gulistan-e-Jauhar</th>\n",
              "      <th>Gulshan-E-Iqbal one</th>\n",
              "      <th>Gulshan-E-Iqbal two</th>\n",
              "      <th>Gulshan-e-Iqbal Town</th>\n",
              "      <th>Hill Park</th>\n",
              "      <th>I I Chundrigar Road</th>\n",
              "      <th>Jamshed Quarter</th>\n",
              "      <th>Jamshed Town</th>\n",
              "      <th>Karimabad</th>\n",
              "      <th>Kashmir Road</th>\n",
              "      <th>Kehkashan</th>\n",
              "      <th>Khalid Bin Walid Road</th>\n",
              "      <th>Khaliq-uz-Zaman</th>\n",
              "      <th>Khayaban-e-Badban</th>\n",
              "      <th>Khayaban-e-Bahria</th>\n",
              "      <th>Khayaban-e-Bukhari</th>\n",
              "      <th>Khayaban-e-Hafiz</th>\n",
              "      <th>Khayaban-e-Hilal</th>\n",
              "      <th>Khayaban-e-Ittehad</th>\n",
              "      <th>Khayaban-e-Jami</th>\n",
              "      <th>Khayaban-e-Janbaz</th>\n",
              "      <th>Khayaban-e-Muhafiz</th>\n",
              "      <th>Khayaban-e-Mujahid</th>\n",
              "      <th>Khayaban-e-Muslim</th>\n",
              "      <th>Khayaban-e-Nishat</th>\n",
              "      <th>Khayaban-e-Rahat</th>\n",
              "      <th>Khayaban-e-Sehar</th>\n",
              "      <th>Khayaban-e-Shahbaz</th>\n",
              "      <th>Khayaban-e-Shaheen</th>\n",
              "      <th>Khayaban-e-Shamsheer</th>\n",
              "      <th>Khayaban-e-Shujaat</th>\n",
              "      <th>Khayaban-e-Tanzeem</th>\n",
              "      <th>Khayaban-e-Tariq</th>\n",
              "      <th>Khayaban-e-Tauheed</th>\n",
              "      <th>Khayabane-e-Amir Khusro</th>\n",
              "      <th>Korangi Creek</th>\n",
              "      <th>Korangi Road</th>\n",
              "      <th>Malir</th>\n",
              "      <th>Mehmoodabad</th>\n",
              "      <th>Muslimabad</th>\n",
              "      <th>Napier Road</th>\n",
              "      <th>Navy Housing Scheme Karsaz</th>\n",
              "      <th>Nazimabad</th>\n",
              "      <th>North Karachi</th>\n",
              "      <th>North Nazimabad</th>\n",
              "      <th>PECHS</th>\n",
              "      <th>PIB Colony</th>\n",
              "      <th>Punjab Colony</th>\n",
              "      <th>Saba Avenue</th>\n",
              "      <th>Saddar Town</th>\n",
              "      <th>Soldier Bazar</th>\n",
              "      <th>Sunset Boulevard</th>\n",
              "      <th>Tariq Road</th>\n",
              "      <th>Zaibunnisa Street</th>\n",
              "    </tr>\n",
              "  </thead>\n",
              "  <tbody>\n",
              "    <tr>\n",
              "      <th>0</th>\n",
              "      <td>North Karachi</td>\n",
              "      <td>510.0</td>\n",
              "      <td>1.0</td>\n",
              "      <td>25.25</td>\n",
              "      <td>1</td>\n",
              "      <td>1</td>\n",
              "      <td>0</td>\n",
              "      <td>0</td>\n",
              "      <td>0</td>\n",
              "      <td>0</td>\n",
              "      <td>0</td>\n",
              "      <td>0</td>\n",
              "      <td>0</td>\n",
              "      <td>0</td>\n",
              "      <td>0</td>\n",
              "      <td>0</td>\n",
              "      <td>0</td>\n",
              "      <td>0</td>\n",
              "      <td>0</td>\n",
              "      <td>0</td>\n",
              "      <td>0</td>\n",
              "      <td>0</td>\n",
              "      <td>0</td>\n",
              "      <td>0</td>\n",
              "      <td>0</td>\n",
              "      <td>0</td>\n",
              "      <td>0</td>\n",
              "      <td>0</td>\n",
              "      <td>0</td>\n",
              "      <td>0</td>\n",
              "      <td>0</td>\n",
              "      <td>0</td>\n",
              "      <td>0</td>\n",
              "      <td>0</td>\n",
              "      <td>0</td>\n",
              "      <td>0</td>\n",
              "      <td>0</td>\n",
              "      <td>0</td>\n",
              "      <td>0</td>\n",
              "      <td>0</td>\n",
              "      <td>0</td>\n",
              "      <td>0</td>\n",
              "      <td>0</td>\n",
              "      <td>0</td>\n",
              "      <td>0</td>\n",
              "      <td>0</td>\n",
              "      <td>0</td>\n",
              "      <td>0</td>\n",
              "      <td>0</td>\n",
              "      <td>0</td>\n",
              "      <td>0</td>\n",
              "      <td>0</td>\n",
              "      <td>0</td>\n",
              "      <td>0</td>\n",
              "      <td>0</td>\n",
              "      <td>0</td>\n",
              "      <td>0</td>\n",
              "      <td>0</td>\n",
              "      <td>0</td>\n",
              "      <td>0</td>\n",
              "      <td>0</td>\n",
              "      <td>0</td>\n",
              "      <td>0</td>\n",
              "      <td>0</td>\n",
              "      <td>0</td>\n",
              "      <td>0</td>\n",
              "      <td>0</td>\n",
              "      <td>0</td>\n",
              "      <td>0</td>\n",
              "      <td>0</td>\n",
              "      <td>0</td>\n",
              "      <td>0</td>\n",
              "      <td>0</td>\n",
              "      <td>0</td>\n",
              "      <td>0</td>\n",
              "      <td>0</td>\n",
              "      <td>0</td>\n",
              "    </tr>\n",
              "    <tr>\n",
              "      <th>6</th>\n",
              "      <td>North Karachi</td>\n",
              "      <td>1196.0</td>\n",
              "      <td>2.0</td>\n",
              "      <td>94.42</td>\n",
              "      <td>2</td>\n",
              "      <td>1</td>\n",
              "      <td>0</td>\n",
              "      <td>0</td>\n",
              "      <td>0</td>\n",
              "      <td>0</td>\n",
              "      <td>0</td>\n",
              "      <td>0</td>\n",
              "      <td>0</td>\n",
              "      <td>0</td>\n",
              "      <td>0</td>\n",
              "      <td>0</td>\n",
              "      <td>0</td>\n",
              "      <td>0</td>\n",
              "      <td>0</td>\n",
              "      <td>0</td>\n",
              "      <td>0</td>\n",
              "      <td>0</td>\n",
              "      <td>0</td>\n",
              "      <td>0</td>\n",
              "      <td>0</td>\n",
              "      <td>0</td>\n",
              "      <td>0</td>\n",
              "      <td>0</td>\n",
              "      <td>0</td>\n",
              "      <td>0</td>\n",
              "      <td>0</td>\n",
              "      <td>0</td>\n",
              "      <td>0</td>\n",
              "      <td>0</td>\n",
              "      <td>0</td>\n",
              "      <td>0</td>\n",
              "      <td>0</td>\n",
              "      <td>0</td>\n",
              "      <td>0</td>\n",
              "      <td>0</td>\n",
              "      <td>0</td>\n",
              "      <td>0</td>\n",
              "      <td>0</td>\n",
              "      <td>0</td>\n",
              "      <td>0</td>\n",
              "      <td>0</td>\n",
              "      <td>0</td>\n",
              "      <td>0</td>\n",
              "      <td>0</td>\n",
              "      <td>0</td>\n",
              "      <td>0</td>\n",
              "      <td>0</td>\n",
              "      <td>0</td>\n",
              "      <td>0</td>\n",
              "      <td>0</td>\n",
              "      <td>0</td>\n",
              "      <td>0</td>\n",
              "      <td>0</td>\n",
              "      <td>0</td>\n",
              "      <td>0</td>\n",
              "      <td>0</td>\n",
              "      <td>0</td>\n",
              "      <td>0</td>\n",
              "      <td>0</td>\n",
              "      <td>0</td>\n",
              "      <td>0</td>\n",
              "      <td>0</td>\n",
              "      <td>0</td>\n",
              "      <td>0</td>\n",
              "      <td>0</td>\n",
              "      <td>0</td>\n",
              "      <td>0</td>\n",
              "      <td>0</td>\n",
              "      <td>0</td>\n",
              "      <td>0</td>\n",
              "      <td>0</td>\n",
              "      <td>0</td>\n",
              "    </tr>\n",
              "    <tr>\n",
              "      <th>8</th>\n",
              "      <td>North Karachi</td>\n",
              "      <td>1640.0</td>\n",
              "      <td>2.0</td>\n",
              "      <td>120.00</td>\n",
              "      <td>3</td>\n",
              "      <td>1</td>\n",
              "      <td>0</td>\n",
              "      <td>0</td>\n",
              "      <td>0</td>\n",
              "      <td>0</td>\n",
              "      <td>0</td>\n",
              "      <td>0</td>\n",
              "      <td>0</td>\n",
              "      <td>0</td>\n",
              "      <td>0</td>\n",
              "      <td>0</td>\n",
              "      <td>0</td>\n",
              "      <td>0</td>\n",
              "      <td>0</td>\n",
              "      <td>0</td>\n",
              "      <td>0</td>\n",
              "      <td>0</td>\n",
              "      <td>0</td>\n",
              "      <td>0</td>\n",
              "      <td>0</td>\n",
              "      <td>0</td>\n",
              "      <td>0</td>\n",
              "      <td>0</td>\n",
              "      <td>0</td>\n",
              "      <td>0</td>\n",
              "      <td>0</td>\n",
              "      <td>0</td>\n",
              "      <td>0</td>\n",
              "      <td>0</td>\n",
              "      <td>0</td>\n",
              "      <td>0</td>\n",
              "      <td>0</td>\n",
              "      <td>0</td>\n",
              "      <td>0</td>\n",
              "      <td>0</td>\n",
              "      <td>0</td>\n",
              "      <td>0</td>\n",
              "      <td>0</td>\n",
              "      <td>0</td>\n",
              "      <td>0</td>\n",
              "      <td>0</td>\n",
              "      <td>0</td>\n",
              "      <td>0</td>\n",
              "      <td>0</td>\n",
              "      <td>0</td>\n",
              "      <td>0</td>\n",
              "      <td>0</td>\n",
              "      <td>0</td>\n",
              "      <td>0</td>\n",
              "      <td>0</td>\n",
              "      <td>0</td>\n",
              "      <td>0</td>\n",
              "      <td>0</td>\n",
              "      <td>0</td>\n",
              "      <td>0</td>\n",
              "      <td>0</td>\n",
              "      <td>0</td>\n",
              "      <td>0</td>\n",
              "      <td>0</td>\n",
              "      <td>0</td>\n",
              "      <td>0</td>\n",
              "      <td>0</td>\n",
              "      <td>0</td>\n",
              "      <td>0</td>\n",
              "      <td>0</td>\n",
              "      <td>0</td>\n",
              "      <td>0</td>\n",
              "      <td>0</td>\n",
              "      <td>0</td>\n",
              "      <td>0</td>\n",
              "      <td>0</td>\n",
              "      <td>0</td>\n",
              "    </tr>\n",
              "    <tr>\n",
              "      <th>9</th>\n",
              "      <td>North Karachi</td>\n",
              "      <td>1337.0</td>\n",
              "      <td>2.0</td>\n",
              "      <td>82.00</td>\n",
              "      <td>2</td>\n",
              "      <td>1</td>\n",
              "      <td>0</td>\n",
              "      <td>0</td>\n",
              "      <td>0</td>\n",
              "      <td>0</td>\n",
              "      <td>0</td>\n",
              "      <td>0</td>\n",
              "      <td>0</td>\n",
              "      <td>0</td>\n",
              "      <td>0</td>\n",
              "      <td>0</td>\n",
              "      <td>0</td>\n",
              "      <td>0</td>\n",
              "      <td>0</td>\n",
              "      <td>0</td>\n",
              "      <td>0</td>\n",
              "      <td>0</td>\n",
              "      <td>0</td>\n",
              "      <td>0</td>\n",
              "      <td>0</td>\n",
              "      <td>0</td>\n",
              "      <td>0</td>\n",
              "      <td>0</td>\n",
              "      <td>0</td>\n",
              "      <td>0</td>\n",
              "      <td>0</td>\n",
              "      <td>0</td>\n",
              "      <td>0</td>\n",
              "      <td>0</td>\n",
              "      <td>0</td>\n",
              "      <td>0</td>\n",
              "      <td>0</td>\n",
              "      <td>0</td>\n",
              "      <td>0</td>\n",
              "      <td>0</td>\n",
              "      <td>0</td>\n",
              "      <td>0</td>\n",
              "      <td>0</td>\n",
              "      <td>0</td>\n",
              "      <td>0</td>\n",
              "      <td>0</td>\n",
              "      <td>0</td>\n",
              "      <td>0</td>\n",
              "      <td>0</td>\n",
              "      <td>0</td>\n",
              "      <td>0</td>\n",
              "      <td>0</td>\n",
              "      <td>0</td>\n",
              "      <td>0</td>\n",
              "      <td>0</td>\n",
              "      <td>0</td>\n",
              "      <td>0</td>\n",
              "      <td>0</td>\n",
              "      <td>0</td>\n",
              "      <td>0</td>\n",
              "      <td>0</td>\n",
              "      <td>0</td>\n",
              "      <td>0</td>\n",
              "      <td>0</td>\n",
              "      <td>0</td>\n",
              "      <td>0</td>\n",
              "      <td>0</td>\n",
              "      <td>0</td>\n",
              "      <td>0</td>\n",
              "      <td>0</td>\n",
              "      <td>0</td>\n",
              "      <td>0</td>\n",
              "      <td>0</td>\n",
              "      <td>0</td>\n",
              "      <td>0</td>\n",
              "      <td>0</td>\n",
              "      <td>0</td>\n",
              "    </tr>\n",
              "    <tr>\n",
              "      <th>10</th>\n",
              "      <td>North Karachi</td>\n",
              "      <td>2181.0</td>\n",
              "      <td>3.0</td>\n",
              "      <td>152.00</td>\n",
              "      <td>4</td>\n",
              "      <td>1</td>\n",
              "      <td>0</td>\n",
              "      <td>0</td>\n",
              "      <td>0</td>\n",
              "      <td>0</td>\n",
              "      <td>0</td>\n",
              "      <td>0</td>\n",
              "      <td>0</td>\n",
              "      <td>0</td>\n",
              "      <td>0</td>\n",
              "      <td>0</td>\n",
              "      <td>0</td>\n",
              "      <td>0</td>\n",
              "      <td>0</td>\n",
              "      <td>0</td>\n",
              "      <td>0</td>\n",
              "      <td>0</td>\n",
              "      <td>0</td>\n",
              "      <td>0</td>\n",
              "      <td>0</td>\n",
              "      <td>0</td>\n",
              "      <td>0</td>\n",
              "      <td>0</td>\n",
              "      <td>0</td>\n",
              "      <td>0</td>\n",
              "      <td>0</td>\n",
              "      <td>0</td>\n",
              "      <td>0</td>\n",
              "      <td>0</td>\n",
              "      <td>0</td>\n",
              "      <td>0</td>\n",
              "      <td>0</td>\n",
              "      <td>0</td>\n",
              "      <td>0</td>\n",
              "      <td>0</td>\n",
              "      <td>0</td>\n",
              "      <td>0</td>\n",
              "      <td>0</td>\n",
              "      <td>0</td>\n",
              "      <td>0</td>\n",
              "      <td>0</td>\n",
              "      <td>0</td>\n",
              "      <td>0</td>\n",
              "      <td>0</td>\n",
              "      <td>0</td>\n",
              "      <td>0</td>\n",
              "      <td>0</td>\n",
              "      <td>0</td>\n",
              "      <td>0</td>\n",
              "      <td>0</td>\n",
              "      <td>0</td>\n",
              "      <td>0</td>\n",
              "      <td>0</td>\n",
              "      <td>0</td>\n",
              "      <td>0</td>\n",
              "      <td>0</td>\n",
              "      <td>0</td>\n",
              "      <td>0</td>\n",
              "      <td>0</td>\n",
              "      <td>0</td>\n",
              "      <td>0</td>\n",
              "      <td>0</td>\n",
              "      <td>0</td>\n",
              "      <td>0</td>\n",
              "      <td>0</td>\n",
              "      <td>0</td>\n",
              "      <td>0</td>\n",
              "      <td>0</td>\n",
              "      <td>0</td>\n",
              "      <td>0</td>\n",
              "      <td>0</td>\n",
              "      <td>0</td>\n",
              "    </tr>\n",
              "  </tbody>\n",
              "</table>\n",
              "</div>"
            ],
            "text/plain": [
              "          location  total_sqft  ...  Tariq Road  Zaibunnisa Street\n",
              "0    North Karachi       510.0  ...           0                  0\n",
              "6    North Karachi      1196.0  ...           0                  0\n",
              "8    North Karachi      1640.0  ...           0                  0\n",
              "9    North Karachi      1337.0  ...           0                  0\n",
              "10   North Karachi      2181.0  ...           0                  0\n",
              "\n",
              "[5 rows x 77 columns]"
            ]
          },
          "metadata": {
            "tags": []
          },
          "execution_count": 134
        }
      ]
    },
    {
      "cell_type": "code",
      "metadata": {
        "colab": {
          "base_uri": "https://localhost:8080/",
          "height": 184
        },
        "id": "8YSLLiaAFw1j",
        "outputId": "b5513c16-c2fb-4f8b-cccd-96d2ea161528"
      },
      "source": [
        "df12 = df11.drop('location',axis='columns')\r\n",
        "df12.head(2)"
      ],
      "execution_count": null,
      "outputs": [
        {
          "output_type": "execute_result",
          "data": {
            "text/html": [
              "<div>\n",
              "<style scoped>\n",
              "    .dataframe tbody tr th:only-of-type {\n",
              "        vertical-align: middle;\n",
              "    }\n",
              "\n",
              "    .dataframe tbody tr th {\n",
              "        vertical-align: top;\n",
              "    }\n",
              "\n",
              "    .dataframe thead th {\n",
              "        text-align: right;\n",
              "    }\n",
              "</style>\n",
              "<table border=\"1\" class=\"dataframe\">\n",
              "  <thead>\n",
              "    <tr style=\"text-align: right;\">\n",
              "      <th></th>\n",
              "      <th>total_sqft</th>\n",
              "      <th>bath</th>\n",
              "      <th>price</th>\n",
              "      <th>bhk</th>\n",
              "      <th>North Karachi</th>\n",
              "      <th>Abid Town</th>\n",
              "      <th>Airport Road</th>\n",
              "      <th>Beach Avenue</th>\n",
              "      <th>Civic Centre</th>\n",
              "      <th>Clifton</th>\n",
              "      <th>Clifton Block nine</th>\n",
              "      <th>Commercial Avenue</th>\n",
              "      <th>Cornish Society Scheme</th>\n",
              "      <th>DHA Defence</th>\n",
              "      <th>DHA Phase seven</th>\n",
              "      <th>DHA Phase six</th>\n",
              "      <th>Defence Garden</th>\n",
              "      <th>Dhoraji Colony</th>\n",
              "      <th>Frere Town</th>\n",
              "      <th>Garden East</th>\n",
              "      <th>Garden West</th>\n",
              "      <th>Gohar Green City</th>\n",
              "      <th>Gulistan-e-Jauhar</th>\n",
              "      <th>Gulshan-E-Iqbal one</th>\n",
              "      <th>Gulshan-E-Iqbal two</th>\n",
              "      <th>Gulshan-e-Iqbal Town</th>\n",
              "      <th>Hill Park</th>\n",
              "      <th>I I Chundrigar Road</th>\n",
              "      <th>Jamshed Quarter</th>\n",
              "      <th>Jamshed Town</th>\n",
              "      <th>Karimabad</th>\n",
              "      <th>Kashmir Road</th>\n",
              "      <th>Kehkashan</th>\n",
              "      <th>Khalid Bin Walid Road</th>\n",
              "      <th>Khaliq-uz-Zaman</th>\n",
              "      <th>Khayaban-e-Badban</th>\n",
              "      <th>Khayaban-e-Bahria</th>\n",
              "      <th>Khayaban-e-Bukhari</th>\n",
              "      <th>Khayaban-e-Hafiz</th>\n",
              "      <th>Khayaban-e-Hilal</th>\n",
              "      <th>Khayaban-e-Ittehad</th>\n",
              "      <th>Khayaban-e-Jami</th>\n",
              "      <th>Khayaban-e-Janbaz</th>\n",
              "      <th>Khayaban-e-Muhafiz</th>\n",
              "      <th>Khayaban-e-Mujahid</th>\n",
              "      <th>Khayaban-e-Muslim</th>\n",
              "      <th>Khayaban-e-Nishat</th>\n",
              "      <th>Khayaban-e-Rahat</th>\n",
              "      <th>Khayaban-e-Sehar</th>\n",
              "      <th>Khayaban-e-Shahbaz</th>\n",
              "      <th>Khayaban-e-Shaheen</th>\n",
              "      <th>Khayaban-e-Shamsheer</th>\n",
              "      <th>Khayaban-e-Shujaat</th>\n",
              "      <th>Khayaban-e-Tanzeem</th>\n",
              "      <th>Khayaban-e-Tariq</th>\n",
              "      <th>Khayaban-e-Tauheed</th>\n",
              "      <th>Khayabane-e-Amir Khusro</th>\n",
              "      <th>Korangi Creek</th>\n",
              "      <th>Korangi Road</th>\n",
              "      <th>Malir</th>\n",
              "      <th>Mehmoodabad</th>\n",
              "      <th>Muslimabad</th>\n",
              "      <th>Napier Road</th>\n",
              "      <th>Navy Housing Scheme Karsaz</th>\n",
              "      <th>Nazimabad</th>\n",
              "      <th>North Karachi</th>\n",
              "      <th>North Nazimabad</th>\n",
              "      <th>PECHS</th>\n",
              "      <th>PIB Colony</th>\n",
              "      <th>Punjab Colony</th>\n",
              "      <th>Saba Avenue</th>\n",
              "      <th>Saddar Town</th>\n",
              "      <th>Soldier Bazar</th>\n",
              "      <th>Sunset Boulevard</th>\n",
              "      <th>Tariq Road</th>\n",
              "      <th>Zaibunnisa Street</th>\n",
              "    </tr>\n",
              "  </thead>\n",
              "  <tbody>\n",
              "    <tr>\n",
              "      <th>0</th>\n",
              "      <td>510.0</td>\n",
              "      <td>1.0</td>\n",
              "      <td>25.25</td>\n",
              "      <td>1</td>\n",
              "      <td>1</td>\n",
              "      <td>0</td>\n",
              "      <td>0</td>\n",
              "      <td>0</td>\n",
              "      <td>0</td>\n",
              "      <td>0</td>\n",
              "      <td>0</td>\n",
              "      <td>0</td>\n",
              "      <td>0</td>\n",
              "      <td>0</td>\n",
              "      <td>0</td>\n",
              "      <td>0</td>\n",
              "      <td>0</td>\n",
              "      <td>0</td>\n",
              "      <td>0</td>\n",
              "      <td>0</td>\n",
              "      <td>0</td>\n",
              "      <td>0</td>\n",
              "      <td>0</td>\n",
              "      <td>0</td>\n",
              "      <td>0</td>\n",
              "      <td>0</td>\n",
              "      <td>0</td>\n",
              "      <td>0</td>\n",
              "      <td>0</td>\n",
              "      <td>0</td>\n",
              "      <td>0</td>\n",
              "      <td>0</td>\n",
              "      <td>0</td>\n",
              "      <td>0</td>\n",
              "      <td>0</td>\n",
              "      <td>0</td>\n",
              "      <td>0</td>\n",
              "      <td>0</td>\n",
              "      <td>0</td>\n",
              "      <td>0</td>\n",
              "      <td>0</td>\n",
              "      <td>0</td>\n",
              "      <td>0</td>\n",
              "      <td>0</td>\n",
              "      <td>0</td>\n",
              "      <td>0</td>\n",
              "      <td>0</td>\n",
              "      <td>0</td>\n",
              "      <td>0</td>\n",
              "      <td>0</td>\n",
              "      <td>0</td>\n",
              "      <td>0</td>\n",
              "      <td>0</td>\n",
              "      <td>0</td>\n",
              "      <td>0</td>\n",
              "      <td>0</td>\n",
              "      <td>0</td>\n",
              "      <td>0</td>\n",
              "      <td>0</td>\n",
              "      <td>0</td>\n",
              "      <td>0</td>\n",
              "      <td>0</td>\n",
              "      <td>0</td>\n",
              "      <td>0</td>\n",
              "      <td>0</td>\n",
              "      <td>0</td>\n",
              "      <td>0</td>\n",
              "      <td>0</td>\n",
              "      <td>0</td>\n",
              "      <td>0</td>\n",
              "      <td>0</td>\n",
              "      <td>0</td>\n",
              "      <td>0</td>\n",
              "      <td>0</td>\n",
              "      <td>0</td>\n",
              "      <td>0</td>\n",
              "    </tr>\n",
              "    <tr>\n",
              "      <th>6</th>\n",
              "      <td>1196.0</td>\n",
              "      <td>2.0</td>\n",
              "      <td>94.42</td>\n",
              "      <td>2</td>\n",
              "      <td>1</td>\n",
              "      <td>0</td>\n",
              "      <td>0</td>\n",
              "      <td>0</td>\n",
              "      <td>0</td>\n",
              "      <td>0</td>\n",
              "      <td>0</td>\n",
              "      <td>0</td>\n",
              "      <td>0</td>\n",
              "      <td>0</td>\n",
              "      <td>0</td>\n",
              "      <td>0</td>\n",
              "      <td>0</td>\n",
              "      <td>0</td>\n",
              "      <td>0</td>\n",
              "      <td>0</td>\n",
              "      <td>0</td>\n",
              "      <td>0</td>\n",
              "      <td>0</td>\n",
              "      <td>0</td>\n",
              "      <td>0</td>\n",
              "      <td>0</td>\n",
              "      <td>0</td>\n",
              "      <td>0</td>\n",
              "      <td>0</td>\n",
              "      <td>0</td>\n",
              "      <td>0</td>\n",
              "      <td>0</td>\n",
              "      <td>0</td>\n",
              "      <td>0</td>\n",
              "      <td>0</td>\n",
              "      <td>0</td>\n",
              "      <td>0</td>\n",
              "      <td>0</td>\n",
              "      <td>0</td>\n",
              "      <td>0</td>\n",
              "      <td>0</td>\n",
              "      <td>0</td>\n",
              "      <td>0</td>\n",
              "      <td>0</td>\n",
              "      <td>0</td>\n",
              "      <td>0</td>\n",
              "      <td>0</td>\n",
              "      <td>0</td>\n",
              "      <td>0</td>\n",
              "      <td>0</td>\n",
              "      <td>0</td>\n",
              "      <td>0</td>\n",
              "      <td>0</td>\n",
              "      <td>0</td>\n",
              "      <td>0</td>\n",
              "      <td>0</td>\n",
              "      <td>0</td>\n",
              "      <td>0</td>\n",
              "      <td>0</td>\n",
              "      <td>0</td>\n",
              "      <td>0</td>\n",
              "      <td>0</td>\n",
              "      <td>0</td>\n",
              "      <td>0</td>\n",
              "      <td>0</td>\n",
              "      <td>0</td>\n",
              "      <td>0</td>\n",
              "      <td>0</td>\n",
              "      <td>0</td>\n",
              "      <td>0</td>\n",
              "      <td>0</td>\n",
              "      <td>0</td>\n",
              "      <td>0</td>\n",
              "      <td>0</td>\n",
              "      <td>0</td>\n",
              "      <td>0</td>\n",
              "    </tr>\n",
              "  </tbody>\n",
              "</table>\n",
              "</div>"
            ],
            "text/plain": [
              "   total_sqft  bath  price  ...  Sunset Boulevard  Tariq Road  Zaibunnisa Street\n",
              "0       510.0   1.0  25.25  ...                 0           0                  0\n",
              "6      1196.0   2.0  94.42  ...                 0           0                  0\n",
              "\n",
              "[2 rows x 76 columns]"
            ]
          },
          "metadata": {
            "tags": []
          },
          "execution_count": 135
        }
      ]
    },
    {
      "cell_type": "code",
      "metadata": {
        "colab": {
          "base_uri": "https://localhost:8080/"
        },
        "id": "xavOz1UiGBCg",
        "outputId": "83f9592d-2fc1-4d12-cbb4-1b116249c7a0"
      },
      "source": [
        "#Build a new model\r\n",
        "df12.shape"
      ],
      "execution_count": null,
      "outputs": [
        {
          "output_type": "execute_result",
          "data": {
            "text/plain": [
              "(6666, 76)"
            ]
          },
          "metadata": {
            "tags": []
          },
          "execution_count": 136
        }
      ]
    },
    {
      "cell_type": "code",
      "metadata": {
        "colab": {
          "base_uri": "https://localhost:8080/",
          "height": 215
        },
        "id": "4_kDjaozGKtg",
        "outputId": "da7a025c-1942-4a4d-c6c9-3087132dc3f0"
      },
      "source": [
        "X = df12.drop(['price'],axis='columns')\r\n",
        "X.head(3)"
      ],
      "execution_count": null,
      "outputs": [
        {
          "output_type": "execute_result",
          "data": {
            "text/html": [
              "<div>\n",
              "<style scoped>\n",
              "    .dataframe tbody tr th:only-of-type {\n",
              "        vertical-align: middle;\n",
              "    }\n",
              "\n",
              "    .dataframe tbody tr th {\n",
              "        vertical-align: top;\n",
              "    }\n",
              "\n",
              "    .dataframe thead th {\n",
              "        text-align: right;\n",
              "    }\n",
              "</style>\n",
              "<table border=\"1\" class=\"dataframe\">\n",
              "  <thead>\n",
              "    <tr style=\"text-align: right;\">\n",
              "      <th></th>\n",
              "      <th>total_sqft</th>\n",
              "      <th>bath</th>\n",
              "      <th>bhk</th>\n",
              "      <th>North Karachi</th>\n",
              "      <th>Abid Town</th>\n",
              "      <th>Airport Road</th>\n",
              "      <th>Beach Avenue</th>\n",
              "      <th>Civic Centre</th>\n",
              "      <th>Clifton</th>\n",
              "      <th>Clifton Block nine</th>\n",
              "      <th>Commercial Avenue</th>\n",
              "      <th>Cornish Society Scheme</th>\n",
              "      <th>DHA Defence</th>\n",
              "      <th>DHA Phase seven</th>\n",
              "      <th>DHA Phase six</th>\n",
              "      <th>Defence Garden</th>\n",
              "      <th>Dhoraji Colony</th>\n",
              "      <th>Frere Town</th>\n",
              "      <th>Garden East</th>\n",
              "      <th>Garden West</th>\n",
              "      <th>Gohar Green City</th>\n",
              "      <th>Gulistan-e-Jauhar</th>\n",
              "      <th>Gulshan-E-Iqbal one</th>\n",
              "      <th>Gulshan-E-Iqbal two</th>\n",
              "      <th>Gulshan-e-Iqbal Town</th>\n",
              "      <th>Hill Park</th>\n",
              "      <th>I I Chundrigar Road</th>\n",
              "      <th>Jamshed Quarter</th>\n",
              "      <th>Jamshed Town</th>\n",
              "      <th>Karimabad</th>\n",
              "      <th>Kashmir Road</th>\n",
              "      <th>Kehkashan</th>\n",
              "      <th>Khalid Bin Walid Road</th>\n",
              "      <th>Khaliq-uz-Zaman</th>\n",
              "      <th>Khayaban-e-Badban</th>\n",
              "      <th>Khayaban-e-Bahria</th>\n",
              "      <th>Khayaban-e-Bukhari</th>\n",
              "      <th>Khayaban-e-Hafiz</th>\n",
              "      <th>Khayaban-e-Hilal</th>\n",
              "      <th>Khayaban-e-Ittehad</th>\n",
              "      <th>Khayaban-e-Jami</th>\n",
              "      <th>Khayaban-e-Janbaz</th>\n",
              "      <th>Khayaban-e-Muhafiz</th>\n",
              "      <th>Khayaban-e-Mujahid</th>\n",
              "      <th>Khayaban-e-Muslim</th>\n",
              "      <th>Khayaban-e-Nishat</th>\n",
              "      <th>Khayaban-e-Rahat</th>\n",
              "      <th>Khayaban-e-Sehar</th>\n",
              "      <th>Khayaban-e-Shahbaz</th>\n",
              "      <th>Khayaban-e-Shaheen</th>\n",
              "      <th>Khayaban-e-Shamsheer</th>\n",
              "      <th>Khayaban-e-Shujaat</th>\n",
              "      <th>Khayaban-e-Tanzeem</th>\n",
              "      <th>Khayaban-e-Tariq</th>\n",
              "      <th>Khayaban-e-Tauheed</th>\n",
              "      <th>Khayabane-e-Amir Khusro</th>\n",
              "      <th>Korangi Creek</th>\n",
              "      <th>Korangi Road</th>\n",
              "      <th>Malir</th>\n",
              "      <th>Mehmoodabad</th>\n",
              "      <th>Muslimabad</th>\n",
              "      <th>Napier Road</th>\n",
              "      <th>Navy Housing Scheme Karsaz</th>\n",
              "      <th>Nazimabad</th>\n",
              "      <th>North Karachi</th>\n",
              "      <th>North Nazimabad</th>\n",
              "      <th>PECHS</th>\n",
              "      <th>PIB Colony</th>\n",
              "      <th>Punjab Colony</th>\n",
              "      <th>Saba Avenue</th>\n",
              "      <th>Saddar Town</th>\n",
              "      <th>Soldier Bazar</th>\n",
              "      <th>Sunset Boulevard</th>\n",
              "      <th>Tariq Road</th>\n",
              "      <th>Zaibunnisa Street</th>\n",
              "    </tr>\n",
              "  </thead>\n",
              "  <tbody>\n",
              "    <tr>\n",
              "      <th>0</th>\n",
              "      <td>510.0</td>\n",
              "      <td>1.0</td>\n",
              "      <td>1</td>\n",
              "      <td>1</td>\n",
              "      <td>0</td>\n",
              "      <td>0</td>\n",
              "      <td>0</td>\n",
              "      <td>0</td>\n",
              "      <td>0</td>\n",
              "      <td>0</td>\n",
              "      <td>0</td>\n",
              "      <td>0</td>\n",
              "      <td>0</td>\n",
              "      <td>0</td>\n",
              "      <td>0</td>\n",
              "      <td>0</td>\n",
              "      <td>0</td>\n",
              "      <td>0</td>\n",
              "      <td>0</td>\n",
              "      <td>0</td>\n",
              "      <td>0</td>\n",
              "      <td>0</td>\n",
              "      <td>0</td>\n",
              "      <td>0</td>\n",
              "      <td>0</td>\n",
              "      <td>0</td>\n",
              "      <td>0</td>\n",
              "      <td>0</td>\n",
              "      <td>0</td>\n",
              "      <td>0</td>\n",
              "      <td>0</td>\n",
              "      <td>0</td>\n",
              "      <td>0</td>\n",
              "      <td>0</td>\n",
              "      <td>0</td>\n",
              "      <td>0</td>\n",
              "      <td>0</td>\n",
              "      <td>0</td>\n",
              "      <td>0</td>\n",
              "      <td>0</td>\n",
              "      <td>0</td>\n",
              "      <td>0</td>\n",
              "      <td>0</td>\n",
              "      <td>0</td>\n",
              "      <td>0</td>\n",
              "      <td>0</td>\n",
              "      <td>0</td>\n",
              "      <td>0</td>\n",
              "      <td>0</td>\n",
              "      <td>0</td>\n",
              "      <td>0</td>\n",
              "      <td>0</td>\n",
              "      <td>0</td>\n",
              "      <td>0</td>\n",
              "      <td>0</td>\n",
              "      <td>0</td>\n",
              "      <td>0</td>\n",
              "      <td>0</td>\n",
              "      <td>0</td>\n",
              "      <td>0</td>\n",
              "      <td>0</td>\n",
              "      <td>0</td>\n",
              "      <td>0</td>\n",
              "      <td>0</td>\n",
              "      <td>0</td>\n",
              "      <td>0</td>\n",
              "      <td>0</td>\n",
              "      <td>0</td>\n",
              "      <td>0</td>\n",
              "      <td>0</td>\n",
              "      <td>0</td>\n",
              "      <td>0</td>\n",
              "      <td>0</td>\n",
              "      <td>0</td>\n",
              "      <td>0</td>\n",
              "    </tr>\n",
              "    <tr>\n",
              "      <th>6</th>\n",
              "      <td>1196.0</td>\n",
              "      <td>2.0</td>\n",
              "      <td>2</td>\n",
              "      <td>1</td>\n",
              "      <td>0</td>\n",
              "      <td>0</td>\n",
              "      <td>0</td>\n",
              "      <td>0</td>\n",
              "      <td>0</td>\n",
              "      <td>0</td>\n",
              "      <td>0</td>\n",
              "      <td>0</td>\n",
              "      <td>0</td>\n",
              "      <td>0</td>\n",
              "      <td>0</td>\n",
              "      <td>0</td>\n",
              "      <td>0</td>\n",
              "      <td>0</td>\n",
              "      <td>0</td>\n",
              "      <td>0</td>\n",
              "      <td>0</td>\n",
              "      <td>0</td>\n",
              "      <td>0</td>\n",
              "      <td>0</td>\n",
              "      <td>0</td>\n",
              "      <td>0</td>\n",
              "      <td>0</td>\n",
              "      <td>0</td>\n",
              "      <td>0</td>\n",
              "      <td>0</td>\n",
              "      <td>0</td>\n",
              "      <td>0</td>\n",
              "      <td>0</td>\n",
              "      <td>0</td>\n",
              "      <td>0</td>\n",
              "      <td>0</td>\n",
              "      <td>0</td>\n",
              "      <td>0</td>\n",
              "      <td>0</td>\n",
              "      <td>0</td>\n",
              "      <td>0</td>\n",
              "      <td>0</td>\n",
              "      <td>0</td>\n",
              "      <td>0</td>\n",
              "      <td>0</td>\n",
              "      <td>0</td>\n",
              "      <td>0</td>\n",
              "      <td>0</td>\n",
              "      <td>0</td>\n",
              "      <td>0</td>\n",
              "      <td>0</td>\n",
              "      <td>0</td>\n",
              "      <td>0</td>\n",
              "      <td>0</td>\n",
              "      <td>0</td>\n",
              "      <td>0</td>\n",
              "      <td>0</td>\n",
              "      <td>0</td>\n",
              "      <td>0</td>\n",
              "      <td>0</td>\n",
              "      <td>0</td>\n",
              "      <td>0</td>\n",
              "      <td>0</td>\n",
              "      <td>0</td>\n",
              "      <td>0</td>\n",
              "      <td>0</td>\n",
              "      <td>0</td>\n",
              "      <td>0</td>\n",
              "      <td>0</td>\n",
              "      <td>0</td>\n",
              "      <td>0</td>\n",
              "      <td>0</td>\n",
              "      <td>0</td>\n",
              "      <td>0</td>\n",
              "      <td>0</td>\n",
              "    </tr>\n",
              "    <tr>\n",
              "      <th>8</th>\n",
              "      <td>1640.0</td>\n",
              "      <td>2.0</td>\n",
              "      <td>3</td>\n",
              "      <td>1</td>\n",
              "      <td>0</td>\n",
              "      <td>0</td>\n",
              "      <td>0</td>\n",
              "      <td>0</td>\n",
              "      <td>0</td>\n",
              "      <td>0</td>\n",
              "      <td>0</td>\n",
              "      <td>0</td>\n",
              "      <td>0</td>\n",
              "      <td>0</td>\n",
              "      <td>0</td>\n",
              "      <td>0</td>\n",
              "      <td>0</td>\n",
              "      <td>0</td>\n",
              "      <td>0</td>\n",
              "      <td>0</td>\n",
              "      <td>0</td>\n",
              "      <td>0</td>\n",
              "      <td>0</td>\n",
              "      <td>0</td>\n",
              "      <td>0</td>\n",
              "      <td>0</td>\n",
              "      <td>0</td>\n",
              "      <td>0</td>\n",
              "      <td>0</td>\n",
              "      <td>0</td>\n",
              "      <td>0</td>\n",
              "      <td>0</td>\n",
              "      <td>0</td>\n",
              "      <td>0</td>\n",
              "      <td>0</td>\n",
              "      <td>0</td>\n",
              "      <td>0</td>\n",
              "      <td>0</td>\n",
              "      <td>0</td>\n",
              "      <td>0</td>\n",
              "      <td>0</td>\n",
              "      <td>0</td>\n",
              "      <td>0</td>\n",
              "      <td>0</td>\n",
              "      <td>0</td>\n",
              "      <td>0</td>\n",
              "      <td>0</td>\n",
              "      <td>0</td>\n",
              "      <td>0</td>\n",
              "      <td>0</td>\n",
              "      <td>0</td>\n",
              "      <td>0</td>\n",
              "      <td>0</td>\n",
              "      <td>0</td>\n",
              "      <td>0</td>\n",
              "      <td>0</td>\n",
              "      <td>0</td>\n",
              "      <td>0</td>\n",
              "      <td>0</td>\n",
              "      <td>0</td>\n",
              "      <td>0</td>\n",
              "      <td>0</td>\n",
              "      <td>0</td>\n",
              "      <td>0</td>\n",
              "      <td>0</td>\n",
              "      <td>0</td>\n",
              "      <td>0</td>\n",
              "      <td>0</td>\n",
              "      <td>0</td>\n",
              "      <td>0</td>\n",
              "      <td>0</td>\n",
              "      <td>0</td>\n",
              "      <td>0</td>\n",
              "      <td>0</td>\n",
              "      <td>0</td>\n",
              "    </tr>\n",
              "  </tbody>\n",
              "</table>\n",
              "</div>"
            ],
            "text/plain": [
              "   total_sqft  bath  bhk  ...  Sunset Boulevard  Tariq Road  Zaibunnisa Street\n",
              "0       510.0   1.0    1  ...                 0           0                  0\n",
              "6      1196.0   2.0    2  ...                 0           0                  0\n",
              "8      1640.0   2.0    3  ...                 0           0                  0\n",
              "\n",
              "[3 rows x 75 columns]"
            ]
          },
          "metadata": {
            "tags": []
          },
          "execution_count": 138
        }
      ]
    },
    {
      "cell_type": "code",
      "metadata": {
        "colab": {
          "base_uri": "https://localhost:8080/"
        },
        "id": "vNTTFp82GPyo",
        "outputId": "b24bf6af-02d8-4111-94ee-41d17175f389"
      },
      "source": [
        "X.shape"
      ],
      "execution_count": null,
      "outputs": [
        {
          "output_type": "execute_result",
          "data": {
            "text/plain": [
              "(6666, 75)"
            ]
          },
          "metadata": {
            "tags": []
          },
          "execution_count": 139
        }
      ]
    },
    {
      "cell_type": "code",
      "metadata": {
        "colab": {
          "base_uri": "https://localhost:8080/"
        },
        "id": "I53aKfOuGb-x",
        "outputId": "1c849e97-5459-4e94-ae7a-4c4501d4a2d9"
      },
      "source": [
        "y = df12.price\r\n",
        "y.head(3)"
      ],
      "execution_count": null,
      "outputs": [
        {
          "output_type": "execute_result",
          "data": {
            "text/plain": [
              "0     25.25\n",
              "6     94.42\n",
              "8    120.00\n",
              "Name: price, dtype: float64"
            ]
          },
          "metadata": {
            "tags": []
          },
          "execution_count": 140
        }
      ]
    },
    {
      "cell_type": "code",
      "metadata": {
        "colab": {
          "base_uri": "https://localhost:8080/"
        },
        "id": "vE0QUeNPGfaS",
        "outputId": "32a68f7a-f2ef-46f9-af3f-6dd7530e3f67"
      },
      "source": [
        "len(y)"
      ],
      "execution_count": null,
      "outputs": [
        {
          "output_type": "execute_result",
          "data": {
            "text/plain": [
              "6666"
            ]
          },
          "metadata": {
            "tags": []
          },
          "execution_count": 141
        }
      ]
    },
    {
      "cell_type": "code",
      "metadata": {
        "id": "vBNQU9SbGuNL"
      },
      "source": [
        "from sklearn.model_selection import train_test_split\r\n",
        "X_train, X_test, y_train, y_test = train_test_split(X,y,test_size=0.2,random_state=10)"
      ],
      "execution_count": null,
      "outputs": []
    },
    {
      "cell_type": "code",
      "metadata": {
        "colab": {
          "base_uri": "https://localhost:8080/"
        },
        "id": "l3LlX-VvGzjO",
        "outputId": "3ce7a326-b473-4e7d-97cc-6f0d8c8b7544"
      },
      "source": [
        "from sklearn.linear_model import LinearRegression\r\n",
        "lr_clf = LinearRegression()\r\n",
        "lr_clf.fit(X_train,y_train)\r\n",
        "lr_clf.score(X_test,y_test)"
      ],
      "execution_count": null,
      "outputs": [
        {
          "output_type": "execute_result",
          "data": {
            "text/plain": [
              "0.8995746223240628"
            ]
          },
          "metadata": {
            "tags": []
          },
          "execution_count": 144
        }
      ]
    },
    {
      "cell_type": "markdown",
      "metadata": {
        "id": "YTWA0SGXHUVj"
      },
      "source": [
        "K Fold cross validation"
      ]
    },
    {
      "cell_type": "code",
      "metadata": {
        "colab": {
          "base_uri": "https://localhost:8080/"
        },
        "id": "VKe8SsRIG339",
        "outputId": "bcfd7c73-0cbd-4746-fcda-11ebf53d6272"
      },
      "source": [
        "# K Fold cross validation to measure accuracy of our LinearRegression model\r\n",
        "\r\n",
        "from sklearn.model_selection import ShuffleSplit\r\n",
        "from sklearn.model_selection import cross_val_score\r\n",
        "\r\n",
        "cv = ShuffleSplit(n_splits=5, test_size=0.2, random_state=0)\r\n",
        "\r\n",
        "cross_val_score(LinearRegression(), X, y, cv=cv)"
      ],
      "execution_count": null,
      "outputs": [
        {
          "output_type": "execute_result",
          "data": {
            "text/plain": [
              "array([0.84261516, 0.84600533, 0.82265115, 0.80939023, 0.83235991])"
            ]
          },
          "metadata": {
            "tags": []
          },
          "execution_count": 145
        }
      ]
    },
    {
      "cell_type": "markdown",
      "metadata": {
        "id": "ypGS-GFqH92T"
      },
      "source": [
        "We can see that in 5 iterations we get a score above 80% all the time. \r\n",
        "This is pretty good but we want to test few other algorithms for regression to see if we can get even better score. We will use GridSearchCV for this purpose"
      ]
    },
    {
      "cell_type": "code",
      "metadata": {
        "colab": {
          "base_uri": "https://localhost:8080/",
          "height": 143
        },
        "id": "fM_gn-k0HbYa",
        "outputId": "c5b53643-3639-4515-d488-d1d4bdb2240e"
      },
      "source": [
        "#Find best model using GridSearchCV\r\n",
        "\r\n",
        "from sklearn.model_selection import GridSearchCV\r\n",
        "\r\n",
        "from sklearn.linear_model import Lasso\r\n",
        "from sklearn.tree import DecisionTreeRegressor\r\n",
        "\r\n",
        "def find_best_model_using_gridsearchcv(X,y):\r\n",
        "    algos = {\r\n",
        "        'linear_regression' : {\r\n",
        "            'model': LinearRegression(),\r\n",
        "            'params': {\r\n",
        "                'normalize': [True, False]\r\n",
        "            }\r\n",
        "        },\r\n",
        "        'lasso': {\r\n",
        "            'model': Lasso(),\r\n",
        "            'params': {\r\n",
        "                'alpha': [1,2],\r\n",
        "                'selection': ['random', 'cyclic']\r\n",
        "            }\r\n",
        "        },\r\n",
        "        'decision_tree': {\r\n",
        "            'model': DecisionTreeRegressor(),\r\n",
        "            'params': {\r\n",
        "                'criterion' : ['mse','friedman_mse'],\r\n",
        "                'splitter': ['best','random']\r\n",
        "            }\r\n",
        "        }\r\n",
        "    }\r\n",
        "    scores = []\r\n",
        "    cv = ShuffleSplit(n_splits=5, test_size=0.2, random_state=0)\r\n",
        "    for algo_name, config in algos.items():\r\n",
        "        gs =  GridSearchCV(config['model'], config['params'], cv=cv, return_train_score=False)\r\n",
        "        gs.fit(X,y)\r\n",
        "        scores.append({\r\n",
        "            'model': algo_name,\r\n",
        "            'best_score': gs.best_score_,\r\n",
        "            'best_params': gs.best_params_\r\n",
        "        })\r\n",
        "\r\n",
        "    return pd.DataFrame(scores,columns=['model','best_score','best_params'])\r\n",
        "\r\n",
        "find_best_model_using_gridsearchcv(X,y)\r\n"
      ],
      "execution_count": null,
      "outputs": [
        {
          "output_type": "execute_result",
          "data": {
            "text/html": [
              "<div>\n",
              "<style scoped>\n",
              "    .dataframe tbody tr th:only-of-type {\n",
              "        vertical-align: middle;\n",
              "    }\n",
              "\n",
              "    .dataframe tbody tr th {\n",
              "        vertical-align: top;\n",
              "    }\n",
              "\n",
              "    .dataframe thead th {\n",
              "        text-align: right;\n",
              "    }\n",
              "</style>\n",
              "<table border=\"1\" class=\"dataframe\">\n",
              "  <thead>\n",
              "    <tr style=\"text-align: right;\">\n",
              "      <th></th>\n",
              "      <th>model</th>\n",
              "      <th>best_score</th>\n",
              "      <th>best_params</th>\n",
              "    </tr>\n",
              "  </thead>\n",
              "  <tbody>\n",
              "    <tr>\n",
              "      <th>0</th>\n",
              "      <td>linear_regression</td>\n",
              "      <td>0.830604</td>\n",
              "      <td>{'normalize': False}</td>\n",
              "    </tr>\n",
              "    <tr>\n",
              "      <th>1</th>\n",
              "      <td>lasso</td>\n",
              "      <td>0.820766</td>\n",
              "      <td>{'alpha': 2, 'selection': 'random'}</td>\n",
              "    </tr>\n",
              "    <tr>\n",
              "      <th>2</th>\n",
              "      <td>decision_tree</td>\n",
              "      <td>0.763003</td>\n",
              "      <td>{'criterion': 'friedman_mse', 'splitter': 'best'}</td>\n",
              "    </tr>\n",
              "  </tbody>\n",
              "</table>\n",
              "</div>"
            ],
            "text/plain": [
              "               model  ...                                        best_params\n",
              "0  linear_regression  ...                               {'normalize': False}\n",
              "1              lasso  ...                {'alpha': 2, 'selection': 'random'}\n",
              "2      decision_tree  ...  {'criterion': 'friedman_mse', 'splitter': 'best'}\n",
              "\n",
              "[3 rows x 3 columns]"
            ]
          },
          "metadata": {
            "tags": []
          },
          "execution_count": 167
        }
      ]
    },
    {
      "cell_type": "markdown",
      "metadata": {
        "id": "B_8i-vg4IRnC"
      },
      "source": [
        "\r\n",
        "\r\n",
        "Based on above results we can say that LinearRegression gives the best score. Hence we will use that.\r\n"
      ]
    },
    {
      "cell_type": "markdown",
      "metadata": {
        "id": "ed34zT7nM7bd"
      },
      "source": [
        "**Test the model for few properties**\r\n"
      ]
    },
    {
      "cell_type": "code",
      "metadata": {
        "colab": {
          "base_uri": "https://localhost:8080/"
        },
        "id": "i1FQouufNG0J",
        "outputId": "df67585e-7a92-42b3-8ecf-49aa337d0def"
      },
      "source": [
        "X.columns"
      ],
      "execution_count": null,
      "outputs": [
        {
          "output_type": "execute_result",
          "data": {
            "text/plain": [
              "Index(['total_sqft', 'bath', 'bhk', ' North Karachi', 'Abid Town',\n",
              "       'Airport Road', 'Beach Avenue', 'Civic Centre', 'Clifton',\n",
              "       'Clifton Block nine', 'Commercial Avenue', 'Cornish Society Scheme ',\n",
              "       'DHA Defence', 'DHA Phase seven', 'DHA Phase six', 'Defence Garden',\n",
              "       'Dhoraji Colony', 'Frere Town', 'Garden East', 'Garden West',\n",
              "       'Gohar Green City', 'Gulistan-e-Jauhar ', 'Gulshan-E-Iqbal one',\n",
              "       'Gulshan-E-Iqbal two', 'Gulshan-e-Iqbal Town', 'Hill Park',\n",
              "       'I I Chundrigar Road', 'Jamshed Quarter', 'Jamshed Town ', 'Karimabad',\n",
              "       'Kashmir Road', 'Kehkashan', 'Khalid Bin Walid Road', 'Khaliq-uz-Zaman',\n",
              "       'Khayaban-e-Badban', 'Khayaban-e-Bahria', 'Khayaban-e-Bukhari',\n",
              "       'Khayaban-e-Hafiz', 'Khayaban-e-Hilal', 'Khayaban-e-Ittehad',\n",
              "       'Khayaban-e-Jami', 'Khayaban-e-Janbaz', 'Khayaban-e-Muhafiz',\n",
              "       'Khayaban-e-Mujahid', 'Khayaban-e-Muslim', 'Khayaban-e-Nishat',\n",
              "       'Khayaban-e-Rahat', 'Khayaban-e-Sehar', 'Khayaban-e-Shahbaz',\n",
              "       'Khayaban-e-Shaheen', 'Khayaban-e-Shamsheer', 'Khayaban-e-Shujaat',\n",
              "       'Khayaban-e-Tanzeem', 'Khayaban-e-Tariq', 'Khayaban-e-Tauheed',\n",
              "       'Khayabane-e-Amir Khusro', 'Korangi Creek', 'Korangi Road', 'Malir',\n",
              "       'Mehmoodabad', 'Muslimabad', 'Napier Road',\n",
              "       'Navy Housing Scheme Karsaz', 'Nazimabad', 'North Karachi',\n",
              "       'North Nazimabad', 'PECHS', 'PIB Colony', 'Punjab Colony',\n",
              "       'Saba Avenue', 'Saddar Town', 'Soldier Bazar', 'Sunset Boulevard',\n",
              "       'Tariq Road', 'Zaibunnisa Street'],\n",
              "      dtype='object')"
            ]
          },
          "metadata": {
            "tags": []
          },
          "execution_count": 148
        }
      ]
    },
    {
      "cell_type": "code",
      "metadata": {
        "colab": {
          "base_uri": "https://localhost:8080/"
        },
        "id": "p6PV5GD5NUTu",
        "outputId": "46b51d23-1389-498c-f7aa-19b3e6b48339"
      },
      "source": [
        "np.where(X.columns=='Mehmoodabad')[0][0]\r\n"
      ],
      "execution_count": null,
      "outputs": [
        {
          "output_type": "execute_result",
          "data": {
            "text/plain": [
              "59"
            ]
          },
          "metadata": {
            "tags": []
          },
          "execution_count": 149
        }
      ]
    },
    {
      "cell_type": "code",
      "metadata": {
        "id": "mLJsTworILJ2"
      },
      "source": [
        "def predict_price(location,sqft,bath,bhk):    \r\n",
        "    loc_index = np.where(X.columns==location)[0][0]\r\n",
        "\r\n",
        "    x = np.zeros(len(X.columns))\r\n",
        "    x[0] = sqft\r\n",
        "    x[1] = bath\r\n",
        "    x[2] = bhk\r\n",
        "    if loc_index >= 0:\r\n",
        "        x[loc_index] = 1\r\n",
        "\r\n",
        "    return lr_clf.predict([x])[0]"
      ],
      "execution_count": null,
      "outputs": []
    },
    {
      "cell_type": "code",
      "metadata": {
        "colab": {
          "base_uri": "https://localhost:8080/"
        },
        "id": "g92qXMVsNAp8",
        "outputId": "884d0434-a080-47f1-debb-09154d2dcb12"
      },
      "source": [
        "predict_price('PECHS',1000, 2, 2)"
      ],
      "execution_count": null,
      "outputs": [
        {
          "output_type": "execute_result",
          "data": {
            "text/plain": [
              "56.689047090515004"
            ]
          },
          "metadata": {
            "tags": []
          },
          "execution_count": 151
        }
      ]
    },
    {
      "cell_type": "code",
      "metadata": {
        "colab": {
          "base_uri": "https://localhost:8080/"
        },
        "id": "KOTDBgJKN5ny",
        "outputId": "78ff25a9-be04-4c06-f4dc-3d7f9b85c964"
      },
      "source": [
        "predict_price('Beach Avenue',1000, 3, 3)"
      ],
      "execution_count": null,
      "outputs": [
        {
          "output_type": "execute_result",
          "data": {
            "text/plain": [
              "49.05586698621805"
            ]
          },
          "metadata": {
            "tags": []
          },
          "execution_count": 162
        }
      ]
    },
    {
      "cell_type": "code",
      "metadata": {
        "colab": {
          "base_uri": "https://localhost:8080/"
        },
        "id": "r4mvvdzXOQm_",
        "outputId": "56051e0b-cab5-4593-8650-f75a85eafa1f"
      },
      "source": [
        "predict_price('Saddar Town',1000, 2, 2)"
      ],
      "execution_count": null,
      "outputs": [
        {
          "output_type": "execute_result",
          "data": {
            "text/plain": [
              "66.53315993871176"
            ]
          },
          "metadata": {
            "tags": []
          },
          "execution_count": 164
        }
      ]
    },
    {
      "cell_type": "code",
      "metadata": {
        "colab": {
          "base_uri": "https://localhost:8080/"
        },
        "id": "FqXW0pigOFcP",
        "outputId": "cd02018c-a2ce-4c20-8d68-c5a0e0379def"
      },
      "source": [
        "predict_price('Beach Avenue',1000, 2, 3)"
      ],
      "execution_count": null,
      "outputs": [
        {
          "output_type": "execute_result",
          "data": {
            "text/plain": [
              "43.2427192305374"
            ]
          },
          "metadata": {
            "tags": []
          },
          "execution_count": 163
        }
      ]
    }
  ]
}